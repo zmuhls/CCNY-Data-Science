{
  "nbformat": 4,
  "nbformat_minor": 0,
  "metadata": {
    "colab": {
      "provenance": [],
      "authorship_tag": "ABX9TyM/8w1fpJd08bvu20X4jE06",
      "include_colab_link": true
    },
    "kernelspec": {
      "name": "python3",
      "display_name": "Python 3"
    },
    "language_info": {
      "name": "python"
    }
  },
  "cells": [
    {
      "cell_type": "markdown",
      "metadata": {
        "id": "view-in-github",
        "colab_type": "text"
      },
      "source": [
        "<a href=\"https://colab.research.google.com/github/zmuhls/ccny-data-science/blob/main/learningStrings.ipynb\" target=\"_parent\"><img src=\"https://colab.research.google.com/assets/colab-badge.svg\" alt=\"Open In Colab\"/></a>"
      ]
    },
    {
      "cell_type": "markdown",
      "source": [
        "# Learning String Methods\n",
        "\n"
      ],
      "metadata": {
        "id": "WdkaDiP10uRH"
      }
    },
    {
      "cell_type": "markdown",
      "source": [
        "## Basic String Methods\n",
        "\n",
        "In this section, we'll explore some fundamental string methods in Python. These methods are essential tools for manipulating and analyzing text data.\n",
        "\n"
      ],
      "metadata": {
        "id": "8qv7D0N905IF"
      }
    },
    {
      "cell_type": "code",
      "execution_count": 1,
      "metadata": {
        "colab": {
          "base_uri": "https://localhost:8080/"
        },
        "id": "7Ua_omGJ0sv4",
        "outputId": "2ff40e7d-ef7b-45dc-8a73-a1519f330058"
      },
      "outputs": [
        {
          "output_type": "stream",
          "name": "stdout",
          "text": [
            "13\n"
          ]
        }
      ],
      "source": [
        "text = \"Hello, world!\"\n",
        "length = len(text)\n",
        "print(length)  # Output: 13"
      ]
    },
    {
      "cell_type": "markdown",
      "source": [
        "#### **a. Calculating String Length**\n",
        "\n",
        "- **`len()`**: Returns the number of characters in a string.\n",
        "\n",
        "  **Example:**"
      ],
      "metadata": {
        "id": "wOjmV0ls2Pai"
      }
    },
    {
      "cell_type": "markdown",
      "source": [],
      "metadata": {
        "id": "KZv894sd2XWV"
      }
    },
    {
      "cell_type": "markdown",
      "source": [
        "**Explanation:**\n",
        "\n",
        "  - The `len()` function calculates the total number of characters in the string `text`, including letters, spaces, and punctuation.\n",
        "  - This is useful for determining the size of the string or validating input length.\n",
        "\n",
        " **Use Cases:**\n",
        "\n",
        "  - Validating user input (e.g., passwords, usernames)\n",
        "  - Controlling loops when iterating over strings\n",
        "  - Checking if a string meets certain length criteria"
      ],
      "metadata": {
        "id": "YvDUuSZd2Rsy"
      }
    },
    {
      "cell_type": "markdown",
      "source": [
        "#### **b. Changing Case**\n",
        "\n",
        "- **`.lower()` / `.upper()`**: Converts all characters in a string to lowercase or uppercase.\n",
        "\n",
        "  **Example:**\n"
      ],
      "metadata": {
        "id": "NJ2tXOCd2lTb"
      }
    },
    {
      "cell_type": "code",
      "source": [
        "  text = \"Hello, World!\"\n",
        "  lower_text = text.lower()\n",
        "  print(lower_text)"
      ],
      "metadata": {
        "id": "7OUuzpzn2okE"
      },
      "execution_count": null,
      "outputs": []
    },
    {
      "cell_type": "code",
      "source": [
        "  upper_text = text.upper()\n",
        "  print(upper_text)"
      ],
      "metadata": {
        "id": "0hzCiHQD2pxA"
      },
      "execution_count": null,
      "outputs": []
    },
    {
      "cell_type": "markdown",
      "source": [
        "**Explanation:**\n",
        "\n",
        "  - These methods do not change the original string but return a new string with the case changed\n",
        "  - Useful for case-insensitive comparisons or standardizing text\n",
        "\n",
        "**Use Cases:**<br>\n",
        "\n",
        "  - Comparing user input regardless of case\n",
        "  - Formatting text output\n",
        "  - Preparing text data for analysis\n"
      ],
      "metadata": {
        "id": "oXSHuUeX2y2P"
      }
    },
    {
      "cell_type": "markdown",
      "source": [
        "#### **c. Removing Whitespace**\n",
        "\n",
        "- **`.strip()`**: Removes any leading (beginning) and trailing (end) whitespace or specified characters from a string.\n",
        "\n",
        "  **Example:**\n"
      ],
      "metadata": {
        "id": "kmJqswG322H7"
      }
    },
    {
      "cell_type": "code",
      "source": [
        "text = \"   Hello   \"\n",
        "stripped_text = text.strip()\n",
        "print(stripped_text)  # Output: 'Hello'"
      ],
      "metadata": {
        "id": "_h8-9rVm2477"
      },
      "execution_count": null,
      "outputs": []
    },
    {
      "cell_type": "markdown",
      "source": [
        "**Explanation:**\n",
        "\n",
        "  - By default, `.strip()` removes spaces, tabs (`\\t`), and newlines (`\\n`) from both ends of the string.\n",
        "  - You can specify characters to remove by passing them as an argument.\n",
        "\n",
        "  **Example with Specified Characters:**"
      ],
      "metadata": {
        "id": "DuGBepa927ij"
      }
    },
    {
      "cell_type": "code",
      "source": [
        "text = \"---Hello---\"\n",
        "stripped_text = text.strip('-')\n",
        "print(stripped_text)  # Output: 'Hello'"
      ],
      "metadata": {
        "id": "-cf-9UBl28vH"
      },
      "execution_count": null,
      "outputs": []
    },
    {
      "cell_type": "markdown",
      "source": [
        "  **Use Cases:**\n",
        "\n",
        "  - Cleaning up user input.\n",
        "  - Processing data from files.\n",
        "  - Preparing strings for parsing or storage."
      ],
      "metadata": {
        "id": "k1Yn_IZo3CDU"
      }
    },
    {
      "cell_type": "markdown",
      "source": [
        "#### **d. Replacing Substrings**\n",
        "\n",
        "- **`.replace(old, new)`**: Replaces all occurrences of a specified substring (`old`) with another substring (`new`).\n",
        "\n",
        "  **Example:**\n"
      ],
      "metadata": {
        "id": "Gv3BpfiR3EYS"
      }
    },
    {
      "cell_type": "code",
      "source": [
        "text = \"Hello, world!\"\n",
        "replaced_text = text.replace(\"world\", \"goodbye\")\n",
        "print(replaced_text)"
      ],
      "metadata": {
        "id": "NcqQTdwU3FxE"
      },
      "execution_count": null,
      "outputs": []
    },
    {
      "cell_type": "markdown",
      "source": [
        "**Explanation:**\n",
        "\n",
        "  - This method scans the string for the specified `old` substring and replaces it with `new`.\n",
        "  - It returns a new string; the original string remains unchanged.<br>\n",
        "\n",
        "**Use Cases:**\n",
        "\n",
        "  - Modifying text content dynamically.\n",
        "  - Censoring or sanitizing input.\n",
        "  - Updating file paths or URLs in text data.\n"
      ],
      "metadata": {
        "id": "WSIKbPVR3Hf4"
      }
    },
    {
      "cell_type": "markdown",
      "source": [
        "#### **e. Splitting Strings**\n",
        "\n",
        "- **`.split(separator)`**: Splits the string into a list of substrings based on a specified `separator`.\n",
        "\n",
        "  **Example:**"
      ],
      "metadata": {
        "id": "ikpveo-n3KcT"
      }
    },
    {
      "cell_type": "code",
      "source": [
        "  text = \"Hello, world!\"\n",
        "  parts = text.split(\",\")\n",
        "  print(parts)"
      ],
      "metadata": {
        "id": "c-aAAmyq3MCp"
      },
      "execution_count": null,
      "outputs": []
    },
    {
      "cell_type": "markdown",
      "source": [
        "  **Explanation:**\n",
        "\n",
        "  - The method looks for the separator (in this case, a comma) and splits the string at each occurrence.\n",
        "  - If no separator is specified, it defaults to splitting on whitespace.\n",
        "\n",
        "  **Example with Default Separator:**"
      ],
      "metadata": {
        "id": "C4ya_jKO3NV1"
      }
    },
    {
      "cell_type": "code",
      "source": [
        "  text = \"Hello world!\"\n",
        "  words = text.split()\n",
        "  print(words)"
      ],
      "metadata": {
        "id": "-ZBz_XgM3PjM"
      },
      "execution_count": null,
      "outputs": []
    },
    {
      "cell_type": "markdown",
      "source": [
        "\n",
        "  **Use Cases:**\n",
        "\n",
        "  - Parsing CSV (Comma-Separated Values) files.\n",
        "  - Tokenizing sentences into words for text analysis.\n",
        "  - Processing user input that contains multiple values."
      ],
      "metadata": {
        "id": "VorLm9YK3Q86"
      }
    },
    {
      "cell_type": "markdown",
      "source": [
        "#### **f. Joining Strings**\n",
        "\n",
        "- **`.join(iterable)`**: Joins elements of an iterable (like a list) into a single string, with the string acting as a separator.\n",
        "\n",
        "  **Example:**"
      ],
      "metadata": {
        "id": "FIforQwt3Uc-"
      }
    },
    {
      "cell_type": "code",
      "source": [
        "words = ['Hello', 'world']\n",
        "sentence = \" \".join(words)\n",
        "print(sentence)"
      ],
      "metadata": {
        "id": "JCTwbCYp3Tkr"
      },
      "execution_count": null,
      "outputs": []
    },
    {
      "cell_type": "markdown",
      "source": [
        "**Explanation:**\n",
        "\n",
        "  - The string `\" \"` (space) is used as a separator between the elements.\n",
        "  - All elements in the iterable must be strings.\n",
        "\n",
        "  **Example with Different Separator:"
      ],
      "metadata": {
        "id": "iAyCxB9E3Ycc"
      }
    },
    {
      "cell_type": "code",
      "source": [
        "words = ['Hello', 'world']\n",
        "hyphenated = \"-\".join(words)\n",
        "print(hyphenated)"
      ],
      "metadata": {
        "id": "QcO3ylZb3bpM"
      },
      "execution_count": null,
      "outputs": []
    },
    {
      "cell_type": "markdown",
      "source": [
        "  **Use Cases:**\n",
        "\n",
        "  - Reassembling strings after processing.\n",
        "  - Creating delimited strings from lists.\n",
        "  - Generating readable output from data structures."
      ],
      "metadata": {
        "id": "Lwk-W8HI3dWZ"
      }
    },
    {
      "cell_type": "markdown",
      "source": [
        "#### **g. Accessing Characters and Slices**\n",
        "\n",
        "- **Indexing Characters:**\n",
        "\n",
        "  - Access individual characters in a string using square brackets `[]` with the index number.\n",
        "\n",
        "  **Example:**"
      ],
      "metadata": {
        "id": "w87bZnc73fdC"
      }
    },
    {
      "cell_type": "code",
      "source": [
        "  text = \"Python\"\n",
        "  first_char = text[0]\n",
        "  print(first_char)"
      ],
      "metadata": {
        "id": "E-qV-6Gb3g1N"
      },
      "execution_count": null,
      "outputs": []
    },
    {
      "cell_type": "markdown",
      "source": [
        "**Explanation:**\n",
        "\n",
        "  - The index `0` refers to the first character.\n",
        "  - **Note:** Since Python indexing starts at 0, the last character is at index `len(text) - 1`.\n"
      ],
      "metadata": {
        "id": "5ipqfEc63jK5"
      }
    },
    {
      "cell_type": "markdown",
      "source": [
        "**Negative Indexing:**\n",
        "\n",
        "  - Use negative numbers to index from the end of the string.\n",
        "\n",
        "  **Example:**"
      ],
      "metadata": {
        "id": "GQXSrDSN3msv"
      }
    },
    {
      "cell_type": "code",
      "source": [
        "last_char = text[-1]\n",
        "print(last_char)"
      ],
      "metadata": {
        "id": "uZxVp6u23n9V"
      },
      "execution_count": null,
      "outputs": []
    },
    {
      "cell_type": "markdown",
      "source": [
        "**Explanation:**\n",
        "\n",
        "  - `-1` refers to the last character, `-2` to the second last, and so on."
      ],
      "metadata": {
        "id": "_yIMmqMj3txC"
      }
    },
    {
      "cell_type": "markdown",
      "source": [
        "**Slicing Strings:**\n",
        "\n",
        "  - Extract a substring by specifying a range of indices: `[start:stop]`.\n",
        "\n",
        "  **Example:**"
      ],
      "metadata": {
        "id": "2cBuzq1J3vXc"
      }
    },
    {
      "cell_type": "code",
      "source": [
        "text = \"Hello, world!\"\n",
        "substring = text[7:12]\n",
        "print(substring)"
      ],
      "metadata": {
        "id": "606IIQjd3u9-"
      },
      "execution_count": null,
      "outputs": []
    },
    {
      "cell_type": "markdown",
      "source": [
        "  **Explanation:**\n",
        "\n",
        "  - The slice `[7:12]` includes characters from index 7 up to, but not including, index 12.\n",
        "  - **Note:** The character at the `stop` index is not included."
      ],
      "metadata": {
        "id": "i4s9FgVY3zgQ"
      }
    },
    {
      "cell_type": "markdown",
      "source": [
        "- **Slicing with Steps:**\n",
        "\n",
        "  - Use an optional third parameter to specify the step size: `[start:stop:step]`.\n",
        "\n",
        "  **Example:**\n"
      ],
      "metadata": {
        "id": "Aoc73Xjr314E"
      }
    },
    {
      "cell_type": "code",
      "source": [
        "text = \"abcdef\"\n",
        "every_other = text[::2]\n",
        "print(every_other)"
      ],
      "metadata": {
        "id": "qYu4AzDp33MD"
      },
      "execution_count": null,
      "outputs": []
    },
    {
      "cell_type": "markdown",
      "source": [
        "**Explanation:**\n",
        "\n",
        "  - The slice `[::2]` starts at the beginning and selects every second character.\n",
        "\n",
        "**Use Cases:**\n",
        "\n",
        "  - Extracting substrings.\n",
        "  - Reversing strings (e.g., `text[::-1]`).\n",
        "  - Selecting specific patterns within a string.\n"
      ],
      "metadata": {
        "id": "QI5y8rkKC0sn"
      }
    },
    {
      "cell_type": "code",
      "source": [
        "text = \"Hello\"\n",
        "text.lower()\n",
        "print(text)"
      ],
      "metadata": {
        "id": "q5ydxo5LDGmd"
      },
      "execution_count": null,
      "outputs": []
    },
    {
      "cell_type": "markdown",
      "source": [
        "  - To change the string, you need to assign the result back to a variable:"
      ],
      "metadata": {
        "id": "ccJGMS9TDOa3"
      }
    },
    {
      "cell_type": "code",
      "source": [
        "text = text.lower()\n",
        "print(text)"
      ],
      "metadata": {
        "id": "gupxApv2DPfl"
      },
      "execution_count": null,
      "outputs": []
    },
    {
      "cell_type": "markdown",
      "source": [
        "**Zero-Based Indexing:**\n",
        "\n",
        "  - Remember that indexing starts at 0.\n",
        "  - This is crucial when accessing specific positions in a string.\n",
        "\n",
        "**Example:**\n"
      ],
      "metadata": {
        "id": "iuYk2dt4ETMv"
      }
    },
    {
      "cell_type": "code",
      "source": [
        "text = \"Python\"\n",
        "print(text[0])"
      ],
      "metadata": {
        "id": "_Dnk_UTAEXmo"
      },
      "execution_count": null,
      "outputs": []
    },
    {
      "cell_type": "markdown",
      "source": [
        "# Cipher Exercise: Applying String Methods\n",
        "\n",
        "**Objective:** Utilize the string methods we've just learned to encrypt text from a randomly selected Project Gutenberg book.\n",
        "\n",
        "---\n",
        "\n",
        "## **Exercise Steps**\n",
        "\n",
        "### **1. Random Selection of Text Files (2 minutes)**\n",
        "\n",
        "- **Select a Book:**\n",
        "\n",
        "  - Each student will draw a slip from a hat containing different Project Gutenberg book IDs or titles, ensuring a random selection.\n",
        "\n",
        "- **Download the Text File:**\n",
        "\n",
        "  - Visit [Project Gutenberg](https://www.gutenberg.org/).\n",
        "  - Use the book ID or title to find your assigned book.\n",
        "  - Download the plain text UTF-8 version of the book.\n"
      ],
      "metadata": {
        "id": "VRJZ9XRN2J9S"
      }
    },
    {
      "cell_type": "markdown",
      "source": [
        "### **2. Reading the Text File into Python (5 minutes)**\n",
        "\n",
        "**Read the File:**"
      ],
      "metadata": {
        "id": "FDy15ZkHFE9G"
      }
    },
    {
      "cell_type": "code",
      "source": [
        "  # Replace 'your_book.txt' with the actual filename\n",
        "  with open('your_book.txt', 'r', encoding='utf-8') as file:\n",
        "      text = file.read()"
      ],
      "metadata": {
        "id": "86Lto4tHFC5c"
      },
      "execution_count": null,
      "outputs": []
    },
    {
      "cell_type": "markdown",
      "source": [
        "### **3. Creating a Simple Cipher (10 minutes)**\n",
        "\n",
        "#### **a. Define a Cipher Dictionary**\n",
        "\n",
        "- **Create a Simple Substitution Cipher:**\n",
        "\n",
        "  We'll create a cipher by shifting each letter in the alphabet by a fixed number of positions. For this example, we'll use a shift of 2 positions."
      ],
      "metadata": {
        "id": "k89gZqzeFanh"
      }
    },
    {
      "cell_type": "code",
      "source": [
        "import string\n",
        "\n",
        "shift = 2  # You can change the shift value\n",
        "letters = string.ascii_lowercase\n",
        "shifted_letters = letters[shift:] + letters[:shift]\n",
        "cipher_dict = dict(zip(letters, shifted_letters))\n",
        "cipher_dict.update({k.upper(): v.upper() for k, v in cipher_dict.items()})\n",
        "translation_table = str.maketrans(cipher_dict)"
      ],
      "metadata": {
        "id": "CLQLmzSNFXPL"
      },
      "execution_count": null,
      "outputs": []
    },
    {
      "cell_type": "markdown",
      "source": [
        "# **Creating the Cipher Dictionary:**\n",
        "\n",
        "  - The `zip()` function pairs each original letter with its shifted counterpart.\n",
        "  - `dict()` converts the zipped pairs into a dictionary for mapping.\n",
        "\n",
        "**Use Cases:**\n",
        "\n",
        "  - Simple encryption by substituting each character.\n",
        "  - Understanding how character mapping works."
      ],
      "metadata": {
        "id": "Y5bSG2bGINzm"
      }
    }
  ]
}