{
  "nbformat": 4,
  "nbformat_minor": 0,
  "metadata": {
    "colab": {
      "provenance": [],
      "name": "dataTypes.ipynb"
    },
    "kernelspec": {
      "name": "python3",
      "display_name": "Python 3"
    },
    "language_info": {
      "name": "python"
    }
  },
  "cells": [
    {
      "cell_type": "markdown",
      "source": [
        "# Data Types\n",
        "\n",
        "\n",
        "*   Strings (`<class 'str'>`)\n",
        "*   Integers (`<class int>`)\n",
        "*   Float (`<class float>`)\n",
        "*   Boolean value: (`<class 'bool'>`)\n",
        "\n",
        "\n",
        "\n",
        "\n",
        "\n"
      ],
      "metadata": {
        "id": "JS9c7qv5D0Js"
      }
    },
    {
      "cell_type": "markdown",
      "source": [
        "## Strings"
      ],
      "metadata": {
        "id": "3gc7LRNX_vG8"
      }
    },
    {
      "cell_type": "markdown",
      "source": [
        "\n",
        "In Python, a string is a sequence of characters enclosed in single, double, or triple quotes, used to represent text data.\n",
        "\n",
        "Assigning the variable `name` to a string value, which you should replace with your actual name when you copy and paste the code into your own window:"
      ],
      "metadata": {
        "id": "UVlmwK-v8MeR"
      }
    },
    {
      "cell_type": "code",
      "source": [
        "# Define biographical variables\n",
        "name = 'Zach'  # string\n",
        "noun_pronoun = 'He'\n",
        "home_town = 'Rochester'\n",
        "favorite_food = 'soup dumplings'\n",
        "favorite_movie = 'Solaris'"
      ],
      "metadata": {
        "id": "3TT-9KtC5z6J"
      },
      "execution_count": null,
      "outputs": []
    },
    {
      "cell_type": "markdown",
      "source": [
        "Output the data type as well as its value with the following functions:"
      ],
      "metadata": {
        "id": "d4uGosV_A1V5"
      }
    },
    {
      "cell_type": "code",
      "source": [
        "print(type(favorite_food))\n",
        "print(favorite_food)"
      ],
      "metadata": {
        "colab": {
          "base_uri": "https://localhost:8080/"
        },
        "id": "VU3EAUs_AwZh",
        "outputId": "33ab82af-d9e1-4b3b-bba2-6222f4e524f7"
      },
      "execution_count": null,
      "outputs": [
        {
          "output_type": "stream",
          "name": "stdout",
          "text": [
            "<class 'str'>\n",
            "soup dumplings\n"
          ]
        }
      ]
    },
    {
      "cell_type": "markdown",
      "source": [
        "## Integers\n",
        "\n",
        "An integer is a whole number (positive, negative, or zero) without a fractional or decimal component, represented by the int data type.\n"
      ],
      "metadata": {
        "id": "GTM8fBp_8fs7"
      }
    },
    {
      "cell_type": "code",
      "source": [
        "age = 29  # integer\n",
        "print(type(age))\n",
        "print(age)"
      ],
      "metadata": {
        "colab": {
          "base_uri": "https://localhost:8080/"
        },
        "id": "-ind2o2W55AN",
        "outputId": "28f518c4-d028-4919-950f-ccb63adbf2be"
      },
      "execution_count": null,
      "outputs": [
        {
          "output_type": "stream",
          "name": "stdout",
          "text": [
            "<class 'int'>\n",
            "29\n"
          ]
        }
      ]
    },
    {
      "cell_type": "markdown",
      "source": [
        "## Floats\n",
        "A float is a data type used to represent numbers with a decimal point or in exponential (scientific) notation, allowing for fractional values."
      ],
      "metadata": {
        "id": "ETIhGv9d8Fl5"
      }
    },
    {
      "cell_type": "code",
      "source": [
        "dog_years_age = 29/7  # float\n",
        "print(type(dog_years_age))\n",
        "print(dog_years_age)"
      ],
      "metadata": {
        "colab": {
          "base_uri": "https://localhost:8080/"
        },
        "id": "u2wxSASP6XtR",
        "outputId": "54dc5e54-c32b-48bf-84de-9c8116dafadf"
      },
      "execution_count": null,
      "outputs": [
        {
          "output_type": "stream",
          "name": "stdout",
          "text": [
            "<class 'float'>\n",
            "4.142857142857143\n"
          ]
        }
      ]
    },
    {
      "cell_type": "markdown",
      "source": [
        "## Boolean values\n",
        "A **boolean** value is a data type that can only represent one of two possible values: `True` or `False`."
      ],
      "metadata": {
        "id": "rKvaFlSt9ctO"
      }
    },
    {
      "cell_type": "code",
      "source": [
        "student = True\n",
        "print(type(student))\n",
        "print(student)"
      ],
      "metadata": {
        "colab": {
          "base_uri": "https://localhost:8080/"
        },
        "id": "Gl6pcCbN9fht",
        "outputId": "ff2efa5c-0e65-484b-8dda-61ec26075e71"
      },
      "execution_count": null,
      "outputs": [
        {
          "output_type": "stream",
          "name": "stdout",
          "text": [
            "<class 'bool'>\n",
            "True\n"
          ]
        }
      ]
    },
    {
      "cell_type": "markdown",
      "source": [
        "In Python, booleans are often used to evaluate conditions or to control the flow of a program (such as in if-statements, loops, etc.)."
      ],
      "metadata": {
        "id": "9ZvLYseCFAX3"
      }
    },
    {
      "cell_type": "code",
      "source": [
        "if student == True:\n",
        "  print(name + \" is a student\")"
      ],
      "metadata": {
        "colab": {
          "base_uri": "https://localhost:8080/"
        },
        "id": "lQ-HQyxjE9IM",
        "outputId": "f579f4e5-03a4-4604-aca2-31490e651c55"
      },
      "execution_count": null,
      "outputs": [
        {
          "output_type": "stream",
          "name": "stdout",
          "text": [
            "Zach is a student\n"
          ]
        }
      ]
    },
    {
      "cell_type": "markdown",
      "source": [
        "## f-string\n",
        "\n",
        "An f-string in Python is a type of string that lets you insert variables or expressions inside curly braces `{}`, which makes it easier to format and display values."
      ],
      "metadata": {
        "id": "hcZMy8DZBL5z"
      }
    },
    {
      "cell_type": "code",
      "source": [
        "print(f\"{name} likes {favorite_food} and once lived in {home_town}. {noun_pronoun} is {int(dog_years_age)} in dog years.\")"
      ],
      "metadata": {
        "colab": {
          "base_uri": "https://localhost:8080/"
        },
        "id": "uXNk8tIF9Edw",
        "outputId": "8cb159d5-83be-4abd-c0e0-71c0d9865438"
      },
      "execution_count": null,
      "outputs": [
        {
          "output_type": "stream",
          "name": "stdout",
          "text": [
            "Zach likes soup dumplings and once lived in Rochester. He is 4 in dog years.\n"
          ]
        }
      ]
    },
    {
      "cell_type": "markdown",
      "source": [
        "# Biographical variables excercise"
      ],
      "metadata": {
        "id": "vubw-hjSf5Ey"
      }
    },
    {
      "cell_type": "markdown",
      "source": [
        "1. Start by answering a few questions about yourself or ask your partner if you’re working with one:<br>\n",
        "\t•\tWhat’s your name?<br>\n",
        "\t•\tHow old are you?<br>\n",
        "\t•\tWhat’s your hometown?<br>\n",
        "\t•\tWhat’s your favorite food?\n",
        "\t• What's your favorite movie?"
      ],
      "metadata": {
        "id": "-2qb5EhjFOPm"
      }
    },
    {
      "cell_type": "markdown",
      "source": [
        "### 2. Replace the placeholders with your own info\n",
        "* Copy and modify the following code in your Colab notebook, revising the values for each variable to match your own biographical details."
      ],
      "metadata": {
        "id": "uDolqdCbgavm"
      }
    },
    {
      "cell_type": "code",
      "execution_count": null,
      "metadata": {
        "colab": {
          "base_uri": "https://localhost:8080/"
        },
        "id": "rk2y4f0cf0xp",
        "outputId": "bea9a777-094f-4bcb-d184-ba57fb07c13c"
      },
      "outputs": [
        {
          "output_type": "stream",
          "name": "stdout",
          "text": [
            "✨This is... Your Name!✨\n",
            "Your Name likes Your Favorite Food and once lived in Your Hometown.\n",
            "Your Name is Your Age years old, which is 7.5 in dog years.\n",
            "The statement 'Your Name is a student' is True.\n",
            "\n",
            "\n",
            "name = <class 'str'>\n",
            "age = <class 'str'>\n",
            "home_town = <class 'str'>\n",
            "favorite_food = <class 'str'>\n",
            "dog_years_age = <class 'float'>\n",
            "student = <class 'bool'>\n",
            "\n"
          ]
        }
      ],
      "source": [
        "# Define biographical variables\n",
        "name = 'Your Name'  # string\n",
        "age = 'Your Age'  # integer\n",
        "home_town = 'Your Hometown'  # string\n",
        "favorite_food = 'Your Favorite Food'  # string\n",
        "dog_years_age = 7.5  # float\n",
        "student = True  # boolean\n",
        "\n",
        "# Print the biographical info using an f-string\n",
        "print(f'✨This is... {name}!✨')\n",
        "print(f\"\"\"{name} likes {favorite_food} and once lived in {home_town}.\n",
        "{name} is {age} years old, which is {dog_years_age} in dog years.\n",
        "The statement '{name} is a student' is {student}.\n",
        "\"\"\")\n",
        "\n",
        "# Check data types of each variable\n",
        "print(f\"\"\"\n",
        "name = {type(name)}\n",
        "age = {type(age)}\n",
        "home_town = {type(home_town)}\n",
        "favorite_food = {type(favorite_food)}\n",
        "dog_years_age = {type(dog_years_age)}\n",
        "student = {type(student)}\n",
        "\"\"\")"
      ]
    },
    {
      "cell_type": "markdown",
      "source": [
        "### 3. Add a new variable called `favorite_movie`.<br>\n",
        "* Update your print statement to include a new sentence about your favorite movie.\n"
      ],
      "metadata": {
        "id": "p9B8cNodf4LG"
      }
    },
    {
      "cell_type": "code",
      "source": [
        "# Adding favorite movie variable\n",
        "favorite_movie = 'Your Favorite Movie'  # string\n",
        "\n",
        "# Update the print statement\n",
        "print(f'✨This is... {name}!✨')\n",
        "print(f\"\"\"{name} likes {favorite_food} and once lived in {home_town}.\n",
        "{name} is {age} years old, which is {dog_years_age} in dog years.\n",
        "The statement '{name} is a student' is {student}.\n",
        "{name}'s favorite movie is {favorite_movie}.\n",
        "\"\"\")"
      ],
      "metadata": {
        "colab": {
          "base_uri": "https://localhost:8080/"
        },
        "id": "QHgsmKpcf2Tj",
        "outputId": "5c95ad21-93c5-4043-93ea-4d74867e8cb9"
      },
      "execution_count": null,
      "outputs": [
        {
          "output_type": "stream",
          "name": "stdout",
          "text": [
            "✨This is... Your Name!✨\n",
            "Your Name likes Your Favorite Food and once lived in Your Hometown.\n",
            "Your Name is Your Age years old, which is 7.5 in dog years.\n",
            "The statement 'Your Name is a student' is True.\n",
            "Your Name's favorite movie is Your Favorite Movie.\n",
            "\n"
          ]
        }
      ]
    },
    {
      "cell_type": "markdown",
      "source": [
        "### 4. Test Your Code: <br>\n",
        "  * Run the code in your Colab notebook to see the output with your details.\n",
        "  * Ensure that your variable types and biographical details are printed correctly.\n",
        "\n",
        "\n",
        "\n"
      ],
      "metadata": {
        "id": "h79ROV_Rf2C6"
      }
    },
    {
      "cell_type": "markdown",
      "source": [
        "### 5. Save to Google Drive:<br>\n",
        "* After testing your code, save the notebook to your ccny-data-science folder in Google Drive for later use.<br>\n",
        "* To save the notebook, go to File > Save a Copy in Drive.<br>\n",
        "* Then move the file to your ccny-data-science folder.<br>\n",
        "\n",
        "Now you’ve personalized the code with your own biographical info and saved it for future reference. Hold onto that file. You'll need it later."
      ],
      "metadata": {
        "id": "Xbc-kZodhoSC"
      }
    }
  ]
}