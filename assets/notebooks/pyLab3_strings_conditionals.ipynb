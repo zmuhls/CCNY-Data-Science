{
  "nbformat": 4,
  "nbformat_minor": 0,
  "metadata": {
    "colab": {
      "provenance": [],
      "authorship_tag": "ABX9TyNAmLAoXJJMZPlhgwHuiGsx",
      "include_colab_link": true
    },
    "kernelspec": {
      "name": "python3",
      "display_name": "Python 3"
    },
    "language_info": {
      "name": "python"
    }
  },
  "cells": [
    {
      "cell_type": "markdown",
      "metadata": {
        "id": "view-in-github",
        "colab_type": "text"
      },
      "source": [
        "<a href=\"https://colab.research.google.com/github/zmuhls/ccny-data-science/blob/main/pyLab3_strings_conditionals.ipynb\" target=\"_parent\"><img src=\"https://colab.research.google.com/assets/colab-badge.svg\" alt=\"Open In Colab\"/></a>"
      ]
    },
    {
      "cell_type": "markdown",
      "source": [
        "# Create Your Own Adventure Game in Python!\n",
        "\n",
        "## Introduction\n",
        "\n",
        "This lesson introduces how to use **string methods**, **conditionals**, and **comparisons** in Python to create your own text-based adventure game. It will first guide you through the basics and gradually build up to creating a simple game where your choices affect the outcome.\n",
        "\n",
        "---\n",
        "\n",
        "*Learning Objectives*\n",
        "\n",
        "- Understand and use common string methods in Python\n",
        "- Write conditional statements to control the flow of a program\n",
        "- Use comparisons to make decisions in code\n",
        "- Apply these concepts to build a text-based adventure game\n"
      ],
      "metadata": {
        "id": "PzSSaaOslHja"
      }
    },
    {
      "cell_type": "markdown",
      "source": [
        "## Part 1: Working with Strings in Python\n",
        "Strings are sequences of characters and are one of the most commonly used data types in Python. Python provides a rich set of string methods that allow you to manipulate and analyze strings."
      ],
      "metadata": {
        "id": "7sSclYJB_K6y"
      }
    },
    {
      "cell_type": "markdown",
      "source": [
        "\n",
        "#### **Common String Methods**\n",
        "\n",
        "    • .lower() - Converts all characters in a string to lowercase.\n",
        "    • .upper() - Converts all characters in a string to uppercase.\n",
        "    • .strip() - Removes any leading and trailing whitespace from a string.\n",
        "    • .replace(old, new) - Replaces occurrences of a substring with another substring."
      ],
      "metadata": {
        "id": "4SlOw0WF_NFV"
      }
    },
    {
      "cell_type": "markdown",
      "source": [
        "### Using `.lower()` and `.upper()`\n",
        "*To normalize units of data in a text file (i.e. **tokens**), use string methods like `.lower()` and `.upper()` to make each character in a word either uppercase or lowercase.*"
      ],
      "metadata": {
        "id": "46RnkC04iaDi"
      }
    },
    {
      "cell_type": "code",
      "source": [
        "greeting = \"Hello world!\"\n",
        "print(greeting.lower())  # Output: hello, world!\n",
        "print(greeting.upper())  # Output: HELLO, WORLD!"
      ],
      "metadata": {
        "id": "5OcF6GMLiTy8"
      },
      "execution_count": null,
      "outputs": []
    },
    {
      "cell_type": "markdown",
      "source": [
        "### Using `.strip()`\n",
        "*To remove unwanted whitespace from the beginning and end of a string, use the `.strip()` method.*\n"
      ],
      "metadata": {
        "id": "q8uv7dZnQA42"
      }
    },
    {
      "cell_type": "code",
      "source": [
        "user_input = \"   yes   \"\n",
        "print(user_input.strip())"
      ],
      "metadata": {
        "id": "T1oeFCcJQD5E"
      },
      "execution_count": null,
      "outputs": []
    },
    {
      "cell_type": "markdown",
      "source": [
        "### Using `.replace()`\n",
        "*To replace parts of a string with something else, use the `.replace()` method.*"
      ],
      "metadata": {
        "id": "sTSXYLVBQFR6"
      }
    },
    {
      "cell_type": "code",
      "source": [
        "text = \"I can't wait for the weekend!\"\n",
        "new_text = text.replace(\"can't\", \"can\")\n",
        "print(new_text)"
      ],
      "metadata": {
        "id": "tuYp77hPQFpw"
      },
      "execution_count": null,
      "outputs": []
    },
    {
      "cell_type": "markdown",
      "source": [
        "## Part 2: String Methods Exercise\n",
        "\n",
        "Write code to take the string `\"    PyTHon ProGRamming   \"` and:\n",
        "\n",
        "1.\tRemove the leading and trailing whitespace\n",
        "2.\tConvert it to all lowercase letters\n",
        "3.\tReplace \"python\" with \"java\""
      ],
      "metadata": {
        "id": "ebhkHJuaQLQh"
      }
    },
    {
      "cell_type": "markdown",
      "source": [
        "### Input your answer below"
      ],
      "metadata": {
        "id": "q4irhnnBQNdX"
      }
    },
    {
      "cell_type": "code",
      "source": [
        "text = \"  PyTHon ProGRamming        \"\n",
        "# insert your code here\n",
        "# ...\n",
        "# ..."
      ],
      "metadata": {
        "id": "ifbltKlCQSZC"
      },
      "execution_count": 44,
      "outputs": []
    },
    {
      "cell_type": "markdown",
      "source": [
        "#### One possible solution..."
      ],
      "metadata": {
        "id": "l5JLM4Trtr31"
      }
    },
    {
      "cell_type": "code",
      "source": [
        "text = \"  PyTHon ProGRamming         \"\n",
        "text = text.strip()\n",
        "text = text.lower()\n",
        "text = text.replace(\"python\", \"java\")\n",
        "print(text)"
      ],
      "metadata": {
        "colab": {
          "base_uri": "https://localhost:8080/"
        },
        "id": "6wEWK2VSn7aQ",
        "outputId": "1ab90ae2-400e-4771-8b8e-eab3dc830588"
      },
      "execution_count": 45,
      "outputs": [
        {
          "output_type": "stream",
          "name": "stdout",
          "text": [
            "java programming\n"
          ]
        }
      ]
    },
    {
      "cell_type": "markdown",
      "source": [
        "#### Another possible solution..."
      ],
      "metadata": {
        "id": "fGoyxxMPohz3"
      }
    },
    {
      "cell_type": "code",
      "source": [
        "text = \"  PyTHon ProGRamming        \"\n",
        "text = text.strip().lower().replace(\"python\", \"java\")\n",
        "print(text)"
      ],
      "metadata": {
        "id": "nnmXKHS-okV_",
        "colab": {
          "base_uri": "https://localhost:8080/"
        },
        "outputId": "34bd84dc-42fc-4162-deb9-b0e9e8d3562b"
      },
      "execution_count": 46,
      "outputs": [
        {
          "output_type": "stream",
          "name": "stdout",
          "text": [
            "java programming\n"
          ]
        }
      ]
    },
    {
      "cell_type": "markdown",
      "source": [
        "## Part 2: Conditionals and Comparisons\n",
        "\n",
        "Conditionals allow your program to make decisions and execute code based on certain conditions."
      ],
      "metadata": {
        "id": "dOgSs8IWQZbO"
      }
    },
    {
      "cell_type": "markdown",
      "source": [
        "#### Comparison Operators\n",
        "\n",
        "\t•\t== - Equal to\n",
        "\t•\t!= - Not equal to\n",
        "\t•\t< - Less than\n",
        "\t•\t> - Greater than\n",
        "\t•\t<= - Less than or equal to\n",
        "\t•\t>= - Greater than or equal to"
      ],
      "metadata": {
        "id": "Dbd4zUfdQcKo"
      }
    },
    {
      "cell_type": "markdown",
      "source": [
        "#### Conditional Statements\n",
        "\n",
        "The basic structure of an if statement in Python is:"
      ],
      "metadata": {
        "id": "6PUbwAPxQgBu"
      }
    },
    {
      "cell_type": "code",
      "source": [
        "# if condition:\n",
        "    ## [insert code to execute if condition is True]\n",
        "# elif another_condition:\n",
        "    ## [insert code to execute if another_condition is True]\n",
        "# else:\n",
        "    ## [insert code to execute if all conditions are False]"
      ],
      "metadata": {
        "id": "bTpPxC2uQiBa"
      },
      "execution_count": null,
      "outputs": []
    },
    {
      "cell_type": "markdown",
      "source": [
        "#### Simple If Statement\n",
        "*Use conditional statements to execute code only when certain conditions are met.*"
      ],
      "metadata": {
        "id": "PLj1mzHShWcJ"
      }
    },
    {
      "cell_type": "code",
      "source": [
        "age = 18\n",
        "if age >= 18:\n",
        "    print(\"You are an adult.\")\n",
        "else:\n",
        "    print(\"You are a minor.\")"
      ],
      "metadata": {
        "id": "0K7qtZSUhPrl"
      },
      "execution_count": null,
      "outputs": []
    },
    {
      "cell_type": "markdown",
      "source": [
        "#### Combining String Methods with Conditionals"
      ],
      "metadata": {
        "id": "8E94zP1sh_9Y"
      }
    },
    {
      "cell_type": "code",
      "source": [
        "user_input = input(\"Do you want to play a game? (yes/no): \")\n",
        "user_input = user_input.strip().lower()\n",
        "\n",
        "if user_input == \"yes\":\n",
        "    print(\"Great! Let's do it.\")\n",
        "elif user_input == \"no\":\n",
        "    print(\"Maybe next time...\")\n",
        "else:\n",
        "    print(\"Please answer 'yes' or 'no'.\")"
      ],
      "metadata": {
        "id": "fg8oMtZ0h_Pi"
      },
      "execution_count": null,
      "outputs": []
    },
    {
      "cell_type": "markdown",
      "source": [
        "## Part 3: Building Your Own Adventure Game\n",
        "Let’s apply what we’ve learned to build a simple text-based adventure game, where the player will be presented with choices, and their input will determine the outcome of the game. We’ll use string methods to process the input and conditionals to decide what happens next.\n"
      ],
      "metadata": {
        "id": "5LqxqVs36rKx"
      }
    },
    {
      "cell_type": "markdown",
      "source": [
        "### Part 1: Introduction\n",
        "Begin your game by introducing the setting and initial choices to the player."
      ],
      "metadata": {
        "id": "-8o8W32564uS"
      }
    },
    {
      "cell_type": "code",
      "source": [
        "print(\"Welcome to the Adventure Game!\")\n",
        "print(\"You find yourself in a dark forest. There are two paths ahead.\")"
      ],
      "metadata": {
        "id": "_zpzKE_U7SNb"
      },
      "execution_count": null,
      "outputs": []
    },
    {
      "cell_type": "markdown",
      "source": [
        "### Part 2: Present Choices\n",
        "Add to the code by asking the player to make a choice and process their input using string methods."
      ],
      "metadata": {
        "id": "cchyf5UH7X2c"
      }
    },
    {
      "cell_type": "code",
      "source": [
        "print(\"Welcome to the Adventure Game!\")\n",
        "print(\"You find yourself in a dark forest. There are two paths ahead.\")\n",
        "choice1 = input(\"Do you want to go 'left' or 'right'? \").strip().lower()"
      ],
      "metadata": {
        "id": "pBOvnq137mg9"
      },
      "execution_count": null,
      "outputs": []
    },
    {
      "cell_type": "markdown",
      "source": [
        "### Part 3: Implementing the First Decision\n",
        "\n",
        "Use conditional statements to determine the game’s flow based on the player’s choice."
      ],
      "metadata": {
        "id": "SHjPzKiY70GQ"
      }
    },
    {
      "cell_type": "code",
      "source": [
        "print(\"Welcome to the Adventure Game!\")\n",
        "print(\"You find yourself in a dark forest. There are two paths ahead.\")\n",
        "choice1 = input(\"Do you want to go 'left' or 'right'? \").strip().lower()\n",
        "\n",
        "if choice1 == \"left\":\n",
        "    print(\"You walk down the left path and encounter a friendly elf.\")\n",
        "    # Continue the story...\n",
        "\n",
        "elif choice1 == \"right\":\n",
        "    print(\"You walk down the right path and fall into a trap!\")\n",
        "    # Continue the story...\n",
        "\n",
        "else:\n",
        "    print(\"You stand still, unable to decide, and a wild animal attacks you!\")"
      ],
      "metadata": {
        "colab": {
          "base_uri": "https://localhost:8080/"
        },
        "id": "nHeFZ2Ov77y4",
        "outputId": "f9056ba9-b051-4720-f51c-31cc8e5a57fe"
      },
      "execution_count": 43,
      "outputs": [
        {
          "output_type": "stream",
          "name": "stdout",
          "text": [
            "Welcome to the Adventure Game!\n",
            "You find yourself in a dark forest. There are two paths ahead.\n",
            "Do you want to go 'left' or 'right'? right\n",
            "You walk down the right path and fall into a trap!\n"
          ]
        }
      ]
    },
    {
      "cell_type": "markdown",
      "source": [
        "### Part 4: Expanding the Adventure\n",
        "*Add more layers to your game by introducing additional choices and outcomes.*"
      ],
      "metadata": {
        "id": "7hQi0kNm78gl"
      }
    },
    {
      "cell_type": "code",
      "source": [
        "# Your code here\n",
        "print(\"Welcome to the Adventure Game!\")\n",
        "print(\"You find yourself in a dark forest. There are two paths ahead.\")\n",
        "choice1 = input(\"Do you want to go 'left' or 'right'? \").strip().lower()\n",
        "\n",
        "if choice1 == \"left\":\n",
        "    print(\"You walk down the left path and encounter a friendly elf.\")\n",
        "    print(\"The elf offers you two potions: 'red' and 'blue'.\")\n",
        "    potion = input(\"Which potion do you choose? (red/blue): \").strip().lower()\n",
        "\n",
        "    if potion == \"red\":\n",
        "        print(\"You feel energized and gain super strength!\")\n",
        "        print(\"With your new strength, you can 'climb' a tall tree or 'run' deeper into the forest.\")\n",
        "        action = input(\"What do you do? (climb/run): \").strip().lower()\n",
        "\n",
        "        if action == \"climb\":\n",
        "            print(\"From the treetop, you see a way out of the forest. You win!\")\n",
        "        elif action == \"run\":\n",
        "            print(\"You run into a wild beast and have to fight!\")\n",
        "        else:\n",
        "            print(\"You hesitate and the effect of the potion wears off.\")\n",
        "\n",
        "    elif potion == \"blue\":\n",
        "        print(\"You feel sleepy and fall into a deep sleep.\")\n",
        "        print(\"You wake up in your bed. It was all a dream!\")\n",
        "    else:\n",
        "        print(\"You didn't choose a potion, and the elf disappears.\")\n",
        "\n",
        "elif choice1 == \"right\":\n",
        "    print(\"You walk down the right path and fall into a trap!\")\n",
        "    print(\"In the trap, you find a hidden door.\")\n",
        "    action = input(\"Do you 'open' the door or 'stay' in the trap? \").strip().lower()\n",
        "\n",
        "    if action == \"open\":\n",
        "        print(\"You escape and find a treasure!\")\n",
        "        print(\"You can 'take' the treasure or 'leave' it.\")\n",
        "        treasure_choice = input(\"What do you do? (take/leave): \").strip().lower()\n",
        "\n",
        "        if treasure_choice == \"take\":\n",
        "            print(\"The treasure is cursed! You turn into stone.\")\n",
        "        elif treasure_choice == \"leave\":\n",
        "            print(\"You walk away safely and find your way out of the forest. You win!\")\n",
        "        else:\n",
        "            print(\"You can't decide and the treasure vanishes.\")\n",
        "\n",
        "    elif action == \"stay\":\n",
        "        print(\"You wait for hours, and eventually someone rescues you.\")\n",
        "        print(\"It's a mysterious stranger who offers to 'guide' you out or 'teach' you survival skills.\")\n",
        "        stranger_choice = input(\"What do you choose? (guide/teach): \").strip().lower()\n",
        "\n",
        "        if stranger_choice == \"guide\":\n",
        "            print(\"The stranger leads you out safely. You win!\")\n",
        "        elif stranger_choice == \"teach\":\n",
        "            print(\"You become a master of survival but remain in the forest forever.\")\n",
        "        else:\n",
        "            print(\"The stranger leaves you alone in the trap.\")\n",
        "\n",
        "    else:\n",
        "        print(\"Unable to decide, you remain in the trap forever.\")\n",
        "\n",
        "else:\n",
        "    print(\"You stand still, unable to decide, and a wild animal attacks you!\")"
      ],
      "metadata": {
        "id": "HplwRMTV8l_7"
      },
      "execution_count": null,
      "outputs": []
    }
  ]
}