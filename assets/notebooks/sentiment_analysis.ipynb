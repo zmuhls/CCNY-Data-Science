{
  "nbformat": 4,
  "nbformat_minor": 0,
  "metadata": {
    "colab": {
      "provenance": []
    },
    "kernelspec": {
      "name": "python3",
      "display_name": "Python 3"
    },
    "language_info": {
      "name": "python"
    }
  },
  "cells": [
    {
      "cell_type": "code",
      "execution_count": null,
      "metadata": {
        "id": "xQAbEVD4gC7K"
      },
      "outputs": [],
      "source": [
        "!pip install vaderSentiment"
      ]
    },
    {
      "cell_type": "code",
      "source": [
        "from vaderSentiment.vaderSentiment import SentimentIntensityAnalyzer"
      ],
      "metadata": {
        "id": "40z2p-84gXsY"
      },
      "execution_count": 2,
      "outputs": []
    },
    {
      "cell_type": "code",
      "source": [
        "import pandas as pd\n",
        "pd.options.display.max_colwidth = 400"
      ],
      "metadata": {
        "id": "7a424_NDgeme"
      },
      "execution_count": 16,
      "outputs": []
    },
    {
      "cell_type": "code",
      "source": [
        "sentimentAnalyser = SentimentIntensityAnalyzer()"
      ],
      "metadata": {
        "id": "HFSv16tygd1B"
      },
      "execution_count": 3,
      "outputs": []
    },
    {
      "cell_type": "code",
      "source": [
        "sentimentAnalyser.polarity_scores(\"Deadpool is coming out in July 😁\")"
      ],
      "metadata": {
        "id": "aQ94a8oaghPr"
      },
      "execution_count": null,
      "outputs": []
    },
    {
      "cell_type": "code",
      "source": [
        "# List of sentences\n",
        "sentences = [\"I like the Marvel movies\",\n",
        "             \"I don't like the Marvel movies\",\n",
        "             \"I despise the Marvel movies with every fiber of my being\",\n",
        "             \"I don't *not* live the Marvel movies\"]\n",
        "\n",
        "# Loop through list of sentences\n",
        "for sentence in sentences:\n",
        "    # Run VADER on each sentence\n",
        "    sentiment_scores = sentimentAnalyser.polarity_scores(sentence)\n",
        "\n",
        "    # Print scores for each sentence\n",
        "    print(f\"{sentence}: {sentiment_scores}\")\n",
        "\n",
        "    # Or print it in a nicer format\n",
        "    print(f\"\"\"'{lyric}' \\n\n",
        "🙁 Negative Sentiment: {sentiment_scores['neg']} \\n\n",
        "😐 Neutral Sentiment: {sentiment_scores['neu']} \\n\n",
        "😀 Positive Sentiment: {sentiment_scores['pos']} \\n\n",
        "✨ Compound Sentiment: {sentiment_scores['compound']} \\n\n",
        "--- \\n\"\"\")"
      ],
      "metadata": {
        "colab": {
          "base_uri": "https://localhost:8080/"
        },
        "id": "i8AhR1JTgkIA",
        "outputId": "ed389cab-b94a-491a-8ac9-95fe52d1ae77"
      },
      "execution_count": 26,
      "outputs": [
        {
          "output_type": "stream",
          "name": "stdout",
          "text": [
            "I like the Marvel movies: {'neg': 0.0, 'neu': 0.361, 'pos': 0.639, 'compound': 0.6486}\n",
            "'The question mark is still blue' \n",
            "\n",
            "🙁 Negative Sentiment: 0.0 \n",
            "  \n",
            "😐 Neutral Sentiment: 0.361 \n",
            "\n",
            "😀 Positive Sentiment: 0.639 \n",
            "\n",
            "✨ Compound Sentiment: 0.6486 \n",
            "\n",
            "--- \n",
            "\n",
            "I don't like the Marvel movies: {'neg': 0.526, 'neu': 0.474, 'pos': 0.0, 'compound': -0.5334}\n",
            "'The question mark is still blue' \n",
            "\n",
            "🙁 Negative Sentiment: 0.526 \n",
            "  \n",
            "😐 Neutral Sentiment: 0.474 \n",
            "\n",
            "😀 Positive Sentiment: 0.0 \n",
            "\n",
            "✨ Compound Sentiment: -0.5334 \n",
            "\n",
            "--- \n",
            "\n",
            "I despise the Marvel movies with every fiber of my being: {'neg': 0.169, 'neu': 0.634, 'pos': 0.197, 'compound': 0.1027}\n",
            "'The question mark is still blue' \n",
            "\n",
            "🙁 Negative Sentiment: 0.169 \n",
            "  \n",
            "😐 Neutral Sentiment: 0.634 \n",
            "\n",
            "😀 Positive Sentiment: 0.197 \n",
            "\n",
            "✨ Compound Sentiment: 0.1027 \n",
            "\n",
            "--- \n",
            "\n",
            "I don't *not* live the Marvel movies: {'neg': 0.28, 'neu': 0.72, 'pos': 0.0, 'compound': -0.3252}\n",
            "'The question mark is still blue' \n",
            "\n",
            "🙁 Negative Sentiment: 0.28 \n",
            "  \n",
            "😐 Neutral Sentiment: 0.72 \n",
            "\n",
            "😀 Positive Sentiment: 0.0 \n",
            "\n",
            "✨ Compound Sentiment: -0.3252 \n",
            "\n",
            "--- \n",
            "\n"
          ]
        }
      ]
    },
    {
      "cell_type": "code",
      "source": [
        "# List of lyrics\n",
        "blue_grey = ['I really don’t know what went wrong',\n",
        "'I grew up with a blue question mark in my mind',\n",
        "'Maybe that’s why I’ve been fighting for my life',\n",
        "'But looking behind, I’m standing hеre dazed',\n",
        "'The powеrful shadow swallows me',\n",
        "'The question mark is still blue']\n",
        "\n",
        "# Loop through list of sentences\n",
        "for lyric in blue_grey:\n",
        "    # Run VADER on each sentence\n",
        "    sentiment_scores = sentimentAnalyser.polarity_scores(lyric)\n",
        "\n",
        "    # Print scores for each sentence\n",
        "    print(f\"\"\"'{lyric}' \\n\n",
        "🙁 Negative Sentiment: {sentiment_scores['neg']} \\n\n",
        "😐 Neutral Sentiment: {sentiment_scores['neu']} \\n\n",
        "😀 Positive Sentiment: {sentiment_scores['pos']} \\n\n",
        "✨ Compound Sentiment: {sentiment_scores['compound']} \\n\n",
        "--- \\n\"\"\")"
      ],
      "metadata": {
        "colab": {
          "base_uri": "https://localhost:8080/"
        },
        "id": "tFfYq2DS7StE",
        "outputId": "7d5a6a25-6881-44b0-9259-5b11c052d585"
      },
      "execution_count": 20,
      "outputs": [
        {
          "output_type": "stream",
          "name": "stdout",
          "text": [
            "'I really don’t know what went wrong' \n",
            "\n",
            "🙁 Negative Sentiment: 0.341 \n",
            "\n",
            "😐 Neutral Sentiment: 0.659 \n",
            "\n",
            "😀 Positive Sentiment: 0.0 \n",
            "\n",
            "✨ Compound Sentiment: -0.4767 \n",
            "\n",
            "--- \n",
            "\n",
            "'I grew up with a blue question mark in my mind' \n",
            "\n",
            "🙁 Negative Sentiment: 0.0 \n",
            "\n",
            "😐 Neutral Sentiment: 1.0 \n",
            "\n",
            "😀 Positive Sentiment: 0.0 \n",
            "\n",
            "✨ Compound Sentiment: 0.0 \n",
            "\n",
            "--- \n",
            "\n",
            "'Maybe that’s why I’ve been fighting for my life' \n",
            "\n",
            "🙁 Negative Sentiment: 0.238 \n",
            "\n",
            "😐 Neutral Sentiment: 0.762 \n",
            "\n",
            "😀 Positive Sentiment: 0.0 \n",
            "\n",
            "✨ Compound Sentiment: -0.3612 \n",
            "\n",
            "--- \n",
            "\n",
            "'But looking behind, I’m standing hеre dazed' \n",
            "\n",
            "🙁 Negative Sentiment: 0.255 \n",
            "\n",
            "😐 Neutral Sentiment: 0.745 \n",
            "\n",
            "😀 Positive Sentiment: 0.0 \n",
            "\n",
            "✨ Compound Sentiment: -0.2617 \n",
            "\n",
            "--- \n",
            "\n",
            "'The powеrful shadow swallows me' \n",
            "\n",
            "🙁 Negative Sentiment: 0.0 \n",
            "\n",
            "😐 Neutral Sentiment: 1.0 \n",
            "\n",
            "😀 Positive Sentiment: 0.0 \n",
            "\n",
            "✨ Compound Sentiment: 0.0 \n",
            "\n",
            "--- \n",
            "\n",
            "'The question mark is still blue' \n",
            "\n",
            "🙁 Negative Sentiment: 0.0 \n",
            "\n",
            "😐 Neutral Sentiment: 1.0 \n",
            "\n",
            "😀 Positive Sentiment: 0.0 \n",
            "\n",
            "✨ Compound Sentiment: 0.0 \n",
            "\n",
            "--- \n",
            "\n"
          ]
        }
      ]
    }
  ]
}