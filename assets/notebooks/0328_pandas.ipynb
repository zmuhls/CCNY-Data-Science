{
 "cells": [
  {
   "cell_type": "markdown",
   "id": "f539d62a-e8c8-4547-80f1-5f5f6f897cd7",
   "metadata": {},
   "source": [
    "# Introduction to pandas"
   ]
  },
  {
   "cell_type": "markdown",
   "id": "9dc14ac2-a342-432f-a7bd-532d0a1d0e6b",
   "metadata": {},
   "source": [
    "## Importing pandas and loading the dataset"
   ]
  },
  {
   "cell_type": "code",
   "execution_count": null,
   "id": "4edbd4db-3163-42da-9d38-e1bc63b7ee25",
   "metadata": {},
   "outputs": [],
   "source": [
    "import pandas as pd"
   ]
  },
  {
   "cell_type": "code",
   "execution_count": null,
   "id": "fe575a25-45bb-4738-a800-09cbfe12807a",
   "metadata": {},
   "outputs": [],
   "source": [
    "bellevue_df = pd.read_csv(\"../datasets/bellevue_almshouse_modified.csv\")\n",
    "#bellevue_df = pd.read_csv(\"https://csc10800.github.io/assets/datasets/bellevue_almshouse_modified.csv\")\n",
    "#bellevue_df = pd.read_csv(\"/Users/diy/Library/CloudStorage/Dropbox/CUNY/07Year/Spring_Teaching/notebooks/bellevue_almshouse_modified.csv\")\n",
    "pd.options.display.max_rows = 50\n",
    "\n",
    "#print(bellevue_df)"
   ]
  },
  {
   "cell_type": "code",
   "execution_count": null,
   "id": "a3b3c377",
   "metadata": {},
   "outputs": [],
   "source": [
    "#for Google Colab Notebooks users only\n",
    "#from google.colab import drive\n",
    "#drive.mount('/content/drive')"
   ]
  },
  {
   "cell_type": "markdown",
   "id": "ce21c03e-81e2-49f3-beea-853e2416d159",
   "metadata": {},
   "source": [
    "## A glimpse of what the dataset is"
   ]
  },
  {
   "cell_type": "code",
   "execution_count": null,
   "id": "19c067d2-515e-4867-809c-f79a771d2827",
   "metadata": {},
   "outputs": [],
   "source": [
    "bellevue_df.info()"
   ]
  },
  {
   "cell_type": "code",
   "execution_count": null,
   "id": "be0157dc-8235-40fe-9f42-24a4fa846f11",
   "metadata": {},
   "outputs": [],
   "source": [
    "bellevue_df.columns"
   ]
  },
  {
   "cell_type": "markdown",
   "id": "eea04863-c7bd-49a3-834b-54379ba92522",
   "metadata": {},
   "source": [
    "## Viewing some rows of the data set"
   ]
  },
  {
   "cell_type": "code",
   "execution_count": null,
   "id": "d03b1a71-52e8-4c2d-a37b-e6717b26742b",
   "metadata": {
    "scrolled": true
   },
   "outputs": [],
   "source": [
    "bellevue_df.head(10)"
   ]
  },
  {
   "cell_type": "code",
   "execution_count": null,
   "id": "cad0056c-e875-40cd-a71d-e8720f811348",
   "metadata": {
    "scrolled": true
   },
   "outputs": [],
   "source": [
    "bellevue_df.sample(10)"
   ]
  },
  {
   "cell_type": "markdown",
   "id": "e53e6c6b-1730-4f7b-b2fd-063bc0805c33",
   "metadata": {},
   "source": [
    "## Getting the summary statistics of the dataset"
   ]
  },
  {
   "cell_type": "code",
   "execution_count": null,
   "id": "0a55d32a-c04e-487c-ba5d-7a0f375bc9b5",
   "metadata": {
    "scrolled": true
   },
   "outputs": [],
   "source": [
    "bellevue_df.describe()"
   ]
  },
  {
   "cell_type": "code",
   "execution_count": null,
   "id": "269b11cb-56f7-4c33-940d-8810b9f5fb30",
   "metadata": {},
   "outputs": [],
   "source": [
    "bellevue_df.describe(include='all')"
   ]
  },
  {
   "cell_type": "markdown",
   "id": "b0008d40-2614-46dd-ba26-838604863436",
   "metadata": {},
   "source": [
    "-----"
   ]
  },
  {
   "cell_type": "markdown",
   "id": "d8d21f78-c0ec-4050-a3af-7dcb2837d577",
   "metadata": {},
   "source": [
    "## Changing the date_in column to the date-time datatype"
   ]
  },
  {
   "cell_type": "code",
   "execution_count": null,
   "id": "fe7b445c-ad22-42d9-85ef-918003fb2c0e",
   "metadata": {},
   "outputs": [],
   "source": [
    "bellevue_df.head(2)"
   ]
  },
  {
   "cell_type": "code",
   "execution_count": null,
   "id": "cee0c712-4062-42b8-8c4c-5cac7b2699e0",
   "metadata": {},
   "outputs": [],
   "source": [
    "bellevue_date = bellevue_df['date_in']\n",
    "bellevue_df['date_in'] = pd.to_datetime(bellevue_date, format='%Y-%m-%d')\n",
    "\n",
    "#bellevue_df.info()\n",
    "\n",
    "bellevue_df.dtypes"
   ]
  },
  {
   "cell_type": "markdown",
   "id": "07d7f901-736a-4372-9963-ff58e24714c1",
   "metadata": {},
   "source": [
    "## Checking for duplicates and removing them"
   ]
  },
  {
   "cell_type": "code",
   "execution_count": null,
   "id": "725849d9-622b-4d59-a106-7aa9ebf2df15",
   "metadata": {},
   "outputs": [],
   "source": [
    "bellevue_df.duplicated(keep=False)\n",
    "bellevue_df[bellevue_df.duplicated(keep='first')]"
   ]
  },
  {
   "cell_type": "code",
   "execution_count": null,
   "id": "7441c779-3e93-4156-be23-674a65bfbcd9",
   "metadata": {},
   "outputs": [],
   "source": [
    "bellevue_df = bellevue_df.drop_duplicates(keep='first')\n",
    "bellevue_df[bellevue_df.duplicated(keep=False)]"
   ]
  },
  {
   "cell_type": "markdown",
   "id": "e516f1aa-50e4-42b4-9efa-949ca81056f5",
   "metadata": {},
   "source": [
    "## Filtering out rows that are not blank"
   ]
  },
  {
   "cell_type": "code",
   "execution_count": null,
   "id": "61c6ed21-df89-4049-b135-52193c60473e",
   "metadata": {},
   "outputs": [],
   "source": [
    "bellevue_df['disease'].notna()"
   ]
  },
  {
   "cell_type": "code",
   "execution_count": null,
   "id": "ecf2a855-ca31-4c5a-bad1-7062f3e029b3",
   "metadata": {},
   "outputs": [],
   "source": [
    "bellevue_df[bellevue_df['disease'].notna()]"
   ]
  },
  {
   "cell_type": "markdown",
   "id": "b9efbcda-4736-4582-b239-694270e25162",
   "metadata": {},
   "source": [
    "## Counting the number of NA "
   ]
  },
  {
   "cell_type": "code",
   "execution_count": null,
   "id": "16eee92c-eae1-470b-93d6-e088812553fe",
   "metadata": {},
   "outputs": [],
   "source": [
    "bellevue_df.count() #will count only non-NA values\n",
    "bellevue_df.count() / len(bellevue_df) #presents proportion of non-NA values to total row entries"
   ]
  },
  {
   "cell_type": "code",
   "execution_count": null,
   "id": "615344e2-ffe0-4ded-b719-9f3aceaf8797",
   "metadata": {
    "scrolled": true
   },
   "outputs": [],
   "source": [
    "bellevue_df[bellevue_df[('profession')].isna()]"
   ]
  },
  {
   "cell_type": "markdown",
   "id": "7657e03d-7305-4c74-8f5a-3ee73b87032e",
   "metadata": {},
   "source": [
    "## Filling in NA values"
   ]
  },
  {
   "cell_type": "code",
   "execution_count": null,
   "id": "fdef0129-3086-4508-8e31-52c88c32b7e8",
   "metadata": {
    "scrolled": true
   },
   "outputs": [],
   "source": [
    "bellevue_df['profession'].fillna('no profession information recorded')"
   ]
  },
  {
   "cell_type": "code",
   "execution_count": null,
   "id": "b188003e-a5fd-4936-826a-eaa0fd7ea3d2",
   "metadata": {},
   "outputs": [],
   "source": [
    "# fill in 'no gender information recorded' for the NA values for gender column\n",
    "bellevue_df['gender'].fillna('no gender information recorded')\n",
    "bellevue_df"
   ]
  },
  {
   "cell_type": "markdown",
   "id": "5682a68b-ddee-4b13-b110-f2573c633ad7",
   "metadata": {},
   "source": [
    "## Counting the frequency of a value "
   ]
  },
  {
   "cell_type": "code",
   "execution_count": null,
   "id": "1a76cce3-1f32-4ab5-816c-8358d2eb44df",
   "metadata": {},
   "outputs": [],
   "source": [
    "bellevue_df['profession'].value_counts()"
   ]
  },
  {
   "cell_type": "code",
   "execution_count": null,
   "id": "ce52d807-4845-4242-9179-752a370f124b",
   "metadata": {},
   "outputs": [],
   "source": [
    "bellevue_df['disease'].value_counts()[:10]"
   ]
  },
  {
   "cell_type": "markdown",
   "id": "6bcd6213-f6f7-4c67-8311-afbeda918ef5",
   "metadata": {},
   "source": [
    "## Selecting the columns in the data"
   ]
  },
  {
   "cell_type": "code",
   "execution_count": null,
   "id": "1c47861c-8f60-4c7b-b13d-87ca6fa22911",
   "metadata": {},
   "outputs": [],
   "source": [
    "bellevue_df[['disease']]"
   ]
  },
  {
   "cell_type": "code",
   "execution_count": null,
   "id": "5ee3de2d-a552-4dc7-a211-beafde2f7849",
   "metadata": {
    "scrolled": true
   },
   "outputs": [],
   "source": [
    "bellevue_df[['disease','profession','gender']]"
   ]
  },
  {
   "cell_type": "markdown",
   "id": "b75e59e5-3ebc-4e3a-8199-4764db32157b",
   "metadata": {},
   "source": [
    "## Renaming columns"
   ]
  },
  {
   "cell_type": "code",
   "execution_count": null,
   "id": "bd3d7c47-73c7-4abf-9af5-6951bd2f2a1e",
   "metadata": {
    "scrolled": true
   },
   "outputs": [],
   "source": [
    "bellevue_df = bellevue_df.rename(columns={'date_in': 'admission_date'})\n",
    "bellevue_df.columns"
   ]
  },
  {
   "cell_type": "markdown",
   "id": "58f55fc8-d7ac-498e-b050-44adb8112703",
   "metadata": {},
   "source": [
    "## Adding columns"
   ]
  },
  {
   "cell_type": "code",
   "execution_count": null,
   "id": "311b3cbc-0c1c-45e4-be0a-898292772cc7",
   "metadata": {},
   "outputs": [],
   "source": [
    "bellevue_df['full_name'] = bellevue_df['first_name'] + ' ' + bellevue_df['last_name']\n",
    "bellevue_df.columns"
   ]
  },
  {
   "cell_type": "code",
   "execution_count": null,
   "id": "736359cf-c610-4447-8768-947628044443",
   "metadata": {},
   "outputs": [],
   "source": [
    "bellevue_df['woman'] = ['yes' if gender == 'w' else 'no' for gender in bellevue_df['gender']]\n",
    "bellevue_df.columns"
   ]
  },
  {
   "cell_type": "markdown",
   "id": "61ab5583-5380-4bbb-8eb4-a7d3e823bc41",
   "metadata": {},
   "source": [
    "## Dropping columns"
   ]
  },
  {
   "cell_type": "code",
   "execution_count": null,
   "id": "aa89ad45-bfad-462e-b352-cbcc15177ca0",
   "metadata": {},
   "outputs": [],
   "source": [
    "bellevue_df = bellevue_df.drop(columns=\"children\")\n",
    "bellevue_df.columns"
   ]
  },
  {
   "cell_type": "markdown",
   "id": "cb7e8757-eea7-4a34-9896-1e753680a45d",
   "metadata": {},
   "source": [
    "## Sorting columns"
   ]
  },
  {
   "cell_type": "code",
   "execution_count": null,
   "id": "7e49c77c-fe40-4497-a16a-741ff848a9a8",
   "metadata": {},
   "outputs": [],
   "source": [
    "bellevue_df.sort_values(by='admission', ascending=True)"
   ]
  },
  {
   "cell_type": "markdown",
   "id": "58b38a7d-0bf3-48ed-bc83-3895946b2cbf",
   "metadata": {},
   "source": [
    "## Filtering/Subsetting data"
   ]
  },
  {
   "cell_type": "code",
   "execution_count": null,
   "id": "572f24e7-fe7d-404f-a867-439fe5726b36",
   "metadata": {},
   "outputs": [],
   "source": [
    "bellevue_df['profession'] == 'teacher'"
   ]
  },
  {
   "cell_type": "code",
   "execution_count": null,
   "id": "95963e40-07ba-4133-bca0-f7f0c468b12e",
   "metadata": {},
   "outputs": [],
   "source": [
    "bellevue_df[bellevue_df['profession'] == 'teacher']"
   ]
  },
  {
   "cell_type": "markdown",
   "id": "58340f5e-dc2e-4ab7-92be-161d4cc2eaae",
   "metadata": {},
   "source": [
    "## Groupby Columns"
   ]
  },
  {
   "cell_type": "code",
   "execution_count": null,
   "id": "e3820672-c2c9-4191-9569-1d51d39b0173",
   "metadata": {},
   "outputs": [],
   "source": [
    "bellevue_df.groupby('profession')"
   ]
  },
  {
   "cell_type": "code",
   "execution_count": null,
   "id": "c3f1c2bb-6049-4823-a8f9-cffb0531c81d",
   "metadata": {},
   "outputs": [],
   "source": [
    "bellevue_df.groupby('profession').count()"
   ]
  },
  {
   "cell_type": "code",
   "execution_count": null,
   "id": "a16201d6-f00a-4f0d-bc0f-4f43f56d23ca",
   "metadata": {},
   "outputs": [],
   "source": [
    "bellevue_df.groupby('profession')['disease'].count()"
   ]
  },
  {
   "cell_type": "code",
   "execution_count": null,
   "id": "a6204ec7-2689-4579-b4f7-d472c25aae62",
   "metadata": {
    "scrolled": true
   },
   "outputs": [],
   "source": [
    "bellevue_df.groupby('profession')['disease'].count().sort_values(ascending = False)"
   ]
  },
  {
   "cell_type": "markdown",
   "id": "95d21a4c-04f2-4759-846d-42c88f68f69f",
   "metadata": {},
   "source": [
    "## Data Visualization"
   ]
  },
  {
   "cell_type": "code",
   "execution_count": null,
   "id": "67f5acea-4ff1-4b3b-8f56-c144e456975b",
   "metadata": {},
   "outputs": [],
   "source": [
    "bellevue_df['disease'].value_counts()[:5].plot(kind='bar', title='Bellevue Almshouse:\\nMost Frequent \"Diseases\"')"
   ]
  },
  {
   "cell_type": "code",
   "execution_count": null,
   "id": "06f265ce-3234-47f0-9f71-f591863d0c76",
   "metadata": {},
   "outputs": [],
   "source": [
    "bellevue_df['disease'].value_counts()[:5].plot(kind='barh',title='Bellevue Almshouse:\\nMost Frequent \"Diseases\"')"
   ]
  },
  {
   "cell_type": "markdown",
   "id": "3f91eb1a-78c6-4ba4-b84e-504e2c6c298b",
   "metadata": {},
   "source": [
    "### To Save Data Visualization"
   ]
  },
  {
   "cell_type": "code",
   "execution_count": null,
   "id": "625bc442-cb1d-4344-9545-d8d4ae77622c",
   "metadata": {},
   "outputs": [],
   "source": [
    "#Add the .get_figure() and .savefig('name_of_your_graph') methods to the end of your graph. \n",
    "#Graph will be saved in the same folder as your notebook\n",
    "\n",
    "bellevue_df['disease'].value_counts()[:5].plot(kind='barh',title='Bellevue Almshouse:\\nMost Frequent \"Diseases\"').get_figure().savefig('Bellevue')"
   ]
  },
  {
   "cell_type": "markdown",
   "id": "bf05889a-3a56-412e-9c54-8580e6103e6d",
   "metadata": {},
   "source": [
    "## Write/export the csv file that you have cleaned"
   ]
  },
  {
   "cell_type": "code",
   "execution_count": null,
   "id": "80fed733-f5e8-448e-8eba-001d712faf89",
   "metadata": {},
   "outputs": [],
   "source": [
    "bellevue_df.to_csv(\"bellevue_df_clean.csv\", encoding='utf-8', index=False)"
   ]
  }
 ],
 "metadata": {
  "kernelspec": {
   "display_name": "Python 3 (ipykernel)",
   "language": "python",
   "name": "python3"
  },
  "language_info": {
   "codemirror_mode": {
    "name": "ipython",
    "version": 3
   },
   "file_extension": ".py",
   "mimetype": "text/x-python",
   "name": "python",
   "nbconvert_exporter": "python",
   "pygments_lexer": "ipython3",
   "version": "3.11.5"
  }
 },
 "nbformat": 4,
 "nbformat_minor": 5
}
