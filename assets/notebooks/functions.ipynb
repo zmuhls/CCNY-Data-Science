{
 "cells": [
  {
   "cell_type": "markdown",
   "id": "dfbcf78f-3005-46f8-9bbc-0601b8cc2956",
   "metadata": {},
   "source": [
    "# Defining a function"
   ]
  },
  {
   "cell_type": "markdown",
   "id": "d6b6c1ba-7b99-48c4-a341-0f705b3fb761",
   "metadata": {},
   "source": [
    "## Defining a function with no parameter"
   ]
  },
  {
   "cell_type": "code",
   "execution_count": null,
   "id": "87fccf5b-e392-491c-9061-422c4f11102f",
   "metadata": {},
   "outputs": [],
   "source": [
    "def happy_birthday():\n",
    "    print(\"Happy Birthday to you~\")\n",
    "    print(\"Happy Birthday to you~\")\n",
    "    print(\"Happy Birthday dear human life form!\")\n",
    "    print(\"Happy Birthday to you~\")\n",
    "    return"
   ]
  },
  {
   "cell_type": "code",
   "execution_count": null,
   "id": "ca00a330-7f0a-469c-b1a2-2de9c22fc7ef",
   "metadata": {},
   "outputs": [],
   "source": [
    "happy_birthday()"
   ]
  },
  {
   "cell_type": "code",
   "execution_count": null,
   "id": "a57f987f-54ac-4fac-ae29-833f119c1414",
   "metadata": {},
   "outputs": [],
   "source": [
    "def greet():\n",
    "    print(\"Hello, enjoy your day!\")\n",
    "    return"
   ]
  },
  {
   "cell_type": "code",
   "execution_count": null,
   "id": "f9b9d8c8-9041-424f-9343-8c1cb462e855",
   "metadata": {
    "scrolled": true
   },
   "outputs": [],
   "source": [
    "greet()"
   ]
  },
  {
   "cell_type": "markdown",
   "id": "e6a47006-e90e-4dc6-912c-6f1b5a7e45d5",
   "metadata": {},
   "source": [
    "## Defining a function with 1 parameter"
   ]
  },
  {
   "cell_type": "code",
   "execution_count": null,
   "id": "216fa056-2026-428a-9155-18c2703c9a10",
   "metadata": {},
   "outputs": [],
   "source": [
    "def personalized_happy_birthday(human):\n",
    "    print(\"Happy Birthday to you~\")\n",
    "    print(\"Happy Birthday to you~\")\n",
    "    print(f\"Happy Birthday {human}!\")\n",
    "    print(\"Happy Birthday to you~\")\n",
    "    return"
   ]
  },
  {
   "cell_type": "code",
   "execution_count": null,
   "id": "b826bda8-af62-48c8-802d-0829d5647660",
   "metadata": {},
   "outputs": [],
   "source": [
    "personalized_happy_birthday(\"Calico\")"
   ]
  },
  {
   "cell_type": "code",
   "execution_count": null,
   "id": "56de20e0-22ff-4716-b868-b3ebe6caff80",
   "metadata": {},
   "outputs": [],
   "source": [
    "def greet2(person):\n",
    "    print(f\"Hello {person}! Have a good day ahead.\")\n",
    "    return"
   ]
  },
  {
   "cell_type": "code",
   "execution_count": null,
   "id": "568409ba-534f-4097-aaa1-1a5c4d16afe8",
   "metadata": {},
   "outputs": [],
   "source": [
    "greet2(\"Calico\")"
   ]
  },
  {
   "cell_type": "markdown",
   "id": "ce798c1f-2574-4357-b82a-01dda6da77f3",
   "metadata": {},
   "source": [
    "-----"
   ]
  },
  {
   "cell_type": "markdown",
   "id": "a422ceb3-edff-4233-be45-28a36bc742d0",
   "metadata": {},
   "source": [
    "## Using keyword arguments"
   ]
  },
  {
   "cell_type": "code",
   "execution_count": null,
   "id": "ffcec379-48e7-4e1a-afcf-68648679f603",
   "metadata": {},
   "outputs": [],
   "source": [
    "def keyword_happy_birthday(to_name, from_name='me'):\n",
    "    print(\"Happy Birthday to you\")\n",
    "    print(\"Happy Birthday to you\")\n",
    "    print(f\"Happy Birthday dear {to_name}\")\n",
    "    print(\"Happy Birthday to you\")\n",
    "    print(f\"\\nSincerely, \\n{from_name}\")\n",
    "    return "
   ]
  },
  {
   "cell_type": "code",
   "execution_count": null,
   "id": "8d15e825-ca94-4e07-8a4e-32c2af041076",
   "metadata": {},
   "outputs": [],
   "source": [
    "keyword_happy_birthday(\"Di\")"
   ]
  },
  {
   "cell_type": "code",
   "execution_count": null,
   "id": "895ce6d5-5aa6-4526-aec2-b846ea4b3219",
   "metadata": {},
   "outputs": [],
   "source": [
    "keyword_happy_birthday(from_name = \"not me\", to_name = \"di\")"
   ]
  },
  {
   "cell_type": "code",
   "execution_count": null,
   "id": "7d525ec7-ec8c-495d-a32c-429ca7c021b8",
   "metadata": {},
   "outputs": [],
   "source": [
    "def add_27(num = 0):\n",
    "    sum = num + 27\n",
    "    return sum"
   ]
  },
  {
   "cell_type": "code",
   "execution_count": null,
   "id": "f79cc22a-a8bc-4f2d-9628-5bf2b554a79f",
   "metadata": {},
   "outputs": [],
   "source": [
    "add_27()"
   ]
  },
  {
   "cell_type": "code",
   "execution_count": null,
   "id": "7ae0201a-29df-494a-9d92-dbb9d0f7425d",
   "metadata": {},
   "outputs": [],
   "source": [
    "add_27(3)"
   ]
  },
  {
   "cell_type": "markdown",
   "id": "571e3b13-d0c9-4aca-85da-ac6af4e60211",
   "metadata": {},
   "source": [
    "-----"
   ]
  },
  {
   "cell_type": "markdown",
   "id": "9b7b44b2-acaf-476e-bf86-9a705faec2d3",
   "metadata": {},
   "source": [
    "## Returning a specific value out of your function"
   ]
  },
  {
   "cell_type": "code",
   "execution_count": null,
   "id": "634f476f-4775-40c7-8e0d-619517bbc5ca",
   "metadata": {},
   "outputs": [],
   "source": [
    "def calculate_dog_years_age(age):\n",
    "    dog_years_age = age * 7\n",
    "    return"
   ]
  },
  {
   "cell_type": "code",
   "execution_count": null,
   "id": "59f8768f-a35b-4482-b466-a365e11abf0f",
   "metadata": {},
   "outputs": [],
   "source": [
    "calculate_dog_years_age(9)"
   ]
  },
  {
   "cell_type": "code",
   "execution_count": null,
   "id": "70df001b-0949-406f-a9b2-9785ec7db88b",
   "metadata": {},
   "outputs": [],
   "source": [
    "def calculate_dog_years_age_return(age):\n",
    "    dog_years_age = age * 7\n",
    "    return dog_years_age"
   ]
  },
  {
   "cell_type": "code",
   "execution_count": null,
   "id": "c8b2ab0e-f200-4b06-b0ee-437c908c91e4",
   "metadata": {},
   "outputs": [],
   "source": [
    "calculate_dog_years_age_return(4)"
   ]
  },
  {
   "cell_type": "code",
   "execution_count": null,
   "id": "27f6dfbe-450e-4780-b22b-5e2fb4595178",
   "metadata": {},
   "outputs": [],
   "source": [
    "def make_text_shouty(text):\n",
    "    shouty_text = text.upper()\n",
    "    return shouty_text"
   ]
  },
  {
   "cell_type": "code",
   "execution_count": null,
   "id": "6cad31b9-005b-4554-8683-f0f3554aecb9",
   "metadata": {},
   "outputs": [],
   "source": [
    "make_text_shouty(\"whatsup\")"
   ]
  },
  {
   "cell_type": "markdown",
   "id": "4e94502b-ee94-4b91-a3a2-0f6085237fb5",
   "metadata": {},
   "source": [
    "-----"
   ]
  },
  {
   "cell_type": "markdown",
   "id": "f1064f44-8bbb-46db-9392-fe564003d4c7",
   "metadata": {},
   "source": [
    "## Multiple parameters"
   ]
  },
  {
   "cell_type": "code",
   "execution_count": null,
   "id": "5fe1d84c-56fc-4e6c-93c5-3a7d085b72be",
   "metadata": {},
   "outputs": [],
   "source": [
    "def budget_expenses(plane_ticket_price, hotel_rate, duration_of_trip, subway_price = 2.90):\n",
    "    hotel_total = hotel_rate * duration_of_trip\n",
    "    subway_total = (subway_price*2)*duration_of_trip\n",
    "    total_cost = plane_ticket_price + hotel_total + subway_total\n",
    "    return total_cost"
   ]
  },
  {
   "cell_type": "code",
   "execution_count": null,
   "id": "5733fa31-be49-4f9d-9c81-e90d76c68637",
   "metadata": {},
   "outputs": [],
   "source": [
    "budget_expenses(450, 120, 5)"
   ]
  },
  {
   "cell_type": "markdown",
   "id": "370b56e6-1841-47c9-859f-e105c6be894d",
   "metadata": {},
   "source": [
    "-----"
   ]
  },
  {
   "cell_type": "markdown",
   "id": "b33a838a-7119-4b75-9ba3-45023f6cd93f",
   "metadata": {},
   "source": [
    "## Side quest! "
   ]
  },
  {
   "cell_type": "markdown",
   "id": "2b3afa3c-94b5-40a9-8b08-1f9a493a9bf4",
   "metadata": {},
   "source": [
    "### Defining a function that require user interaction via an input"
   ]
  },
  {
   "cell_type": "code",
   "execution_count": null,
   "id": "014ec8f8-51e0-4aaf-b19b-6755aba7d918",
   "metadata": {},
   "outputs": [],
   "source": [
    "def greet3():\n",
    "    print(\"Please enter name:\")\n",
    "    person = input()\n",
    "    print(f\"Hello {person}! Have a good day ahead.\")\n",
    "    return\n",
    "\n",
    "greet3()"
   ]
  },
  {
   "cell_type": "markdown",
   "id": "376ff0ee-a6eb-45ae-bc3a-cf76a3b821d6",
   "metadata": {},
   "source": [
    "### Defining a function that takes an average for a list of numbers"
   ]
  },
  {
   "cell_type": "code",
   "execution_count": null,
   "id": "98f9af91-cda0-4089-8bcc-002287b1c2d1",
   "metadata": {},
   "outputs": [],
   "source": [
    "def avg(numbers = 0):\n",
    "    total = 0\n",
    "    for number in numbers:\n",
    "        total += number \n",
    "    n = len(numbers)\n",
    "    results = total/n\n",
    "    \n",
    "    return(f\"The average of {numbers} is  {results}.\")\n",
    "\n",
    "avg([5, 7, 5])"
   ]
  }
 ],
 "metadata": {
  "kernelspec": {
   "display_name": "Python 3 (ipykernel)",
   "language": "python",
   "name": "python3"
  },
  "language_info": {
   "codemirror_mode": {
    "name": "ipython",
    "version": 3
   },
   "file_extension": ".py",
   "mimetype": "text/x-python",
   "name": "python",
   "nbconvert_exporter": "python",
   "pygments_lexer": "ipython3",
   "version": "3.11.5"
  }
 },
 "nbformat": 4,
 "nbformat_minor": 5
}
