{
 "cells": [
  {
   "cell_type": "markdown",
   "id": "f539d62a-e8c8-4547-80f1-5f5f6f897cd7",
   "metadata": {},
   "source": [
    "# Introduction to pandas"
   ]
  },
  {
   "cell_type": "markdown",
   "id": "9dc14ac2-a342-432f-a7bd-532d0a1d0e6b",
   "metadata": {},
   "source": [
    "## Importing pandas and loading the dataset"
   ]
  },
  {
   "cell_type": "code",
   "execution_count": 2,
   "id": "4edbd4db-3163-42da-9d38-e1bc63b7ee25",
   "metadata": {},
   "outputs": [],
   "source": [
    "import pandas as pd"
   ]
  },
  {
   "cell_type": "code",
   "execution_count": null,
   "id": "a3b3c377",
   "metadata": {},
   "outputs": [],
   "source": [
    "#for Google Colab Notebooks users only\n",
    "from google.colab import drive\n",
    "drive.mount('/content/drive')\n",
    "#when the dialog box pops up, allow google drive permission "
   ]
  },
  {
   "cell_type": "code",
   "execution_count": 12,
   "id": "fe575a25-45bb-4738-a800-09cbfe12807a",
   "metadata": {},
   "outputs": [],
   "source": [
    "# bellevue_df = pd.read_csv(\"/Users/diy/Library/CloudStorage/Dropbox/CUNY/07Year/Spring_Teaching/notebooks/bellevue_almshouse_modified.csv\")\n",
    "bellevue_df = pd.read_csv(\"../notebooks/bellevue_almshouse_modified.csv\")\n",
    "pd.options.display.max_rows = 20"
   ]
  },
  {
   "cell_type": "markdown",
   "id": "ce21c03e-81e2-49f3-beea-853e2416d159",
   "metadata": {},
   "source": [
    "## A glimpse of what the dataset is"
   ]
  },
  {
   "cell_type": "code",
   "execution_count": 10,
   "id": "19c067d2-515e-4867-809c-f79a771d2827",
   "metadata": {},
   "outputs": [
    {
     "name": "stdout",
     "output_type": "stream",
     "text": [
      "<class 'pandas.core.frame.DataFrame'>\n",
      "RangeIndex: 9584 entries, 0 to 9583\n",
      "Data columns (total 8 columns):\n",
      " #   Column      Non-Null Count  Dtype  \n",
      "---  ------      --------------  -----  \n",
      " 0   date_in     9584 non-null   object \n",
      " 1   first_name  9580 non-null   object \n",
      " 2   last_name   9584 non-null   object \n",
      " 3   age         9534 non-null   float64\n",
      " 4   disease     6497 non-null   object \n",
      " 5   profession  8565 non-null   object \n",
      " 6   gender      9584 non-null   object \n",
      " 7   children    37 non-null     object \n",
      "dtypes: float64(1), object(7)\n",
      "memory usage: 599.1+ KB\n"
     ]
    }
   ],
   "source": [
    "bellevue_df.info()"
   ]
  },
  {
   "cell_type": "code",
   "execution_count": 11,
   "id": "be0157dc-8235-40fe-9f42-24a4fa846f11",
   "metadata": {},
   "outputs": [
    {
     "data": {
      "text/plain": [
       "Index(['date_in', 'first_name', 'last_name', 'age', 'disease', 'profession',\n",
       "       'gender', 'children'],\n",
       "      dtype='object')"
      ]
     },
     "execution_count": 11,
     "metadata": {},
     "output_type": "execute_result"
    }
   ],
   "source": [
    "bellevue_df.columns"
   ]
  },
  {
   "cell_type": "markdown",
   "id": "eea04863-c7bd-49a3-834b-54379ba92522",
   "metadata": {},
   "source": [
    "## Viewing some rows of the data set"
   ]
  },
  {
   "cell_type": "code",
   "execution_count": null,
   "id": "d03b1a71-52e8-4c2d-a37b-e6717b26742b",
   "metadata": {
    "scrolled": true
   },
   "outputs": [],
   "source": [
    "bellevue_df.head(10)"
   ]
  },
  {
   "cell_type": "code",
   "execution_count": null,
   "id": "cad0056c-e875-40cd-a71d-e8720f811348",
   "metadata": {
    "scrolled": true
   },
   "outputs": [],
   "source": [
    "bellevue_df.sample(10)"
   ]
  },
  {
   "cell_type": "markdown",
   "id": "e53e6c6b-1730-4f7b-b2fd-063bc0805c33",
   "metadata": {},
   "source": [
    "## Getting the summary statistics of the dataset"
   ]
  },
  {
   "cell_type": "code",
   "execution_count": null,
   "id": "0a55d32a-c04e-487c-ba5d-7a0f375bc9b5",
   "metadata": {
    "scrolled": true
   },
   "outputs": [],
   "source": [
    "bellevue_df.describe()"
   ]
  },
  {
   "cell_type": "code",
   "execution_count": null,
   "id": "269b11cb-56f7-4c33-940d-8810b9f5fb30",
   "metadata": {},
   "outputs": [],
   "source": [
    "bellevue_df.describe(include='all')"
   ]
  },
  {
   "cell_type": "markdown",
   "id": "07d7f901-736a-4372-9963-ff58e24714c1",
   "metadata": {},
   "source": [
    "## Checking for duplicates and removing them"
   ]
  },
  {
   "cell_type": "code",
   "execution_count": null,
   "id": "725849d9-622b-4d59-a106-7aa9ebf2df15",
   "metadata": {},
   "outputs": [],
   "source": [
    "bellevue_df.duplicated(keep=False)\n",
    "bellevue_df[bellevue_df.duplicated(keep=False)]"
   ]
  },
  {
   "cell_type": "code",
   "execution_count": null,
   "id": "7441c779-3e93-4156-be23-674a65bfbcd9",
   "metadata": {},
   "outputs": [],
   "source": [
    "bellevue_df = bellevue_df.drop_duplicates(keep='first')\n",
    "bellevue_df[bellevue_df.duplicated(keep=False)]"
   ]
  },
  {
   "cell_type": "markdown",
   "id": "d8d21f78-c0ec-4050-a3af-7dcb2837d577",
   "metadata": {},
   "source": [
    "## Changing the date_in column to the date-time datatype"
   ]
  },
  {
   "cell_type": "code",
   "execution_count": null,
   "id": "cee0c712-4062-42b8-8c4c-5cac7b2699e0",
   "metadata": {},
   "outputs": [],
   "source": [
    "bellevue_int = bellevue_df['date_in']\n",
    "bellevue_df['date_in'] = pd.to_datetime(bellevue_int, format='%Y-%m-%d')\n",
    "bellevue_df.info()"
   ]
  },
  {
   "cell_type": "markdown",
   "id": "6bcd6213-f6f7-4c67-8311-afbeda918ef5",
   "metadata": {},
   "source": [
    "## Selecting the columns in the data"
   ]
  },
  {
   "cell_type": "code",
   "execution_count": null,
   "id": "1c47861c-8f60-4c7b-b13d-87ca6fa22911",
   "metadata": {},
   "outputs": [],
   "source": [
    "bellevue_df[['disease']]"
   ]
  },
  {
   "cell_type": "code",
   "execution_count": null,
   "id": "5ee3de2d-a552-4dc7-a211-beafde2f7849",
   "metadata": {
    "scrolled": true
   },
   "outputs": [],
   "source": [
    "bellevue_df[['disease','profession','gender']]"
   ]
  },
  {
   "cell_type": "markdown",
   "id": "b75e59e5-3ebc-4e3a-8199-4764db32157b",
   "metadata": {},
   "source": [
    "## Renaming columns"
   ]
  },
  {
   "cell_type": "code",
   "execution_count": null,
   "id": "bd3d7c47-73c7-4abf-9af5-6951bd2f2a1e",
   "metadata": {},
   "outputs": [],
   "source": [
    "bellevue_df = bellevue_df.rename(columns={'date_in': 'admission'})\n",
    "bellevue_df.columns"
   ]
  },
  {
   "cell_type": "markdown",
   "id": "5682a68b-ddee-4b13-b110-f2573c633ad7",
   "metadata": {},
   "source": [
    "## Counting the frequency of a value "
   ]
  },
  {
   "cell_type": "code",
   "execution_count": null,
   "id": "1a76cce3-1f32-4ab5-816c-8358d2eb44df",
   "metadata": {},
   "outputs": [],
   "source": [
    "bellevue_df['disease'].value_counts()"
   ]
  },
  {
   "cell_type": "code",
   "execution_count": null,
   "id": "ce52d807-4845-4242-9179-752a370f124b",
   "metadata": {},
   "outputs": [],
   "source": [
    "bellevue_df['disease'].value_counts()[:10]"
   ]
  },
  {
   "cell_type": "markdown",
   "id": "b9efbcda-4736-4582-b239-694270e25162",
   "metadata": {},
   "source": [
    "## Counting the number of NA are there in the column 'age'"
   ]
  },
  {
   "cell_type": "code",
   "execution_count": null,
   "id": "615344e2-ffe0-4ded-b719-9f3aceaf8797",
   "metadata": {},
   "outputs": [],
   "source": [
    "bellevue_df[bellevue_df[('age')].isna()]"
   ]
  }
 ],
 "metadata": {
  "kernelspec": {
   "display_name": "Python 3 (ipykernel)",
   "language": "python",
   "name": "python3"
  },
  "language_info": {
   "codemirror_mode": {
    "name": "ipython",
    "version": 3
   },
   "file_extension": ".py",
   "mimetype": "text/x-python",
   "name": "python",
   "nbconvert_exporter": "python",
   "pygments_lexer": "ipython3",
   "version": "3.11.5"
  }
 },
 "nbformat": 4,
 "nbformat_minor": 5
}
