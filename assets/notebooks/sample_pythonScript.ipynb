{
 "cells": [
  {
   "cell_type": "code",
   "execution_count": null,
   "id": "e590eb9a-2898-4df1-9079-6e45ffd1b1a4",
   "metadata": {},
   "outputs": [],
   "source": [
    "#Importing libraries/packages/modules \n",
    "\n",
    "import re\n",
    "from collections import Counter\n",
    "import pandas as pd\n",
    "import matplotlib.pyplot as plt\n",
    "\n",
    "%matplotlib inline"
   ]
  },
  {
   "cell_type": "code",
   "execution_count": null,
   "id": "e649a679-4c34-4b66-bef7-bb0e598e1567",
   "metadata": {},
   "outputs": [],
   "source": [
    "#Defining functions\n",
    "\n",
    "def split_into_words(any_chunk_of_text):\n",
    "    lowercase_text = any_chunk_of_text.lower()\n",
    "    split_words = re.split(\"\\W+\", lowercase_text)\n",
    "    return split_words"
   ]
  },
  {
   "cell_type": "code",
   "execution_count": null,
   "id": "6cef8430-f830-44cf-8cdc-5abf3005f000",
   "metadata": {},
   "outputs": [],
   "source": [
    "#Define Filepaths and Assign Variables\n",
    "\n",
    "filepath_of_text = \"/Users/diy/Library/CloudStorage/Dropbox/CUNY/07Year/Spring_Teaching/datasets/cmdline_practice/sherlockHolmes.txt\"\n",
    "number_of_desired_words = 10\n",
    "\n",
    "#Creating a list of stopwords\n",
    "stopwords = ['i', 'me', 'my', 'myself', 'we', 'our', 'ours', 'ourselves', 'you', 'your', 'yours',\n",
    " 'yourself', 'yourselves', 'he', 'him', 'his', 'himself', 'she', 'her', 'hers',\n",
    " 'herself', 'it', 'its', 'itself', 'they', 'them', 'their', 'theirs', 'themselves',\n",
    " 'what', 'which', 'who', 'whom', 'this', 'that', 'these', 'those', 'am', 'is', 'are',\n",
    " 'was', 'were', 'be', 'been', 'being', 'have', 'has', 'had', 'having', 'do', 'does',\n",
    " 'did', 'doing', 'a', 'an', 'the', 'and', 'but', 'if', 'or', 'because', 'as', 'until',\n",
    " 'while', 'of', 'at', 'by', 'for', 'with', 'about', 'against', 'between', 'into',\n",
    " 'through', 'during', 'before', 'after', 'above', 'below', 'to', 'from', 'up', 'down',\n",
    " 'in', 'out', 'on', 'off', 'over', 'under', 'again', 'further', 'then', 'once', 'here',\n",
    " 'there', 'when', 'where', 'why', 'how', 'all', 'any', 'both', 'each', 'few', 'more', 'mr',\n",
    " 'most', 'other', 'some', 'such', 'no', 'nor', 'not', 'only', 'own', 'same', 'so', 'tm', 'said',\n",
    " 'than', 'too', 'very', 's', 't', 'can', 'will', 'just', 'don', 'should', 'now', 've', 'll', 'amp', 'gutenberg', 'project']"
   ]
  },
  {
   "cell_type": "code",
   "execution_count": null,
   "id": "701a6ee2-3f81-42cf-8aa7-6985bc6ee958",
   "metadata": {},
   "outputs": [],
   "source": [
    "#Reading in a file (loading a file for our analysis)\n",
    "\n",
    "full_text = open(filepath_of_text, encoding=\"utf-8\").read()"
   ]
  },
  {
   "cell_type": "code",
   "execution_count": null,
   "id": "f4396ef4-cf1c-4d36-b9b8-bdb5d2f8ec02",
   "metadata": {},
   "outputs": [],
   "source": [
    "#Manipulating and analyzing the file\n",
    "\n",
    "all_the_words = split_into_words(full_text) #Splits up the text\n",
    "\n",
    "meaningful_words = [word for word in all_the_words \n",
    "                    if word not in stopwords] #Identifying words that are not stopwords and putting them into a new list\n",
    "\n",
    "meaningful_words_tally = Counter(meaningful_words) #Count the number of times each word appears in the new list"
   ]
  },
  {
   "cell_type": "code",
   "execution_count": null,
   "id": "955ab52f-3875-4b8c-9cde-a20a066f9005",
   "metadata": {},
   "outputs": [],
   "source": [
    "#Output results\n",
    "\n",
    "most_frequent_meaningful_words = meaningful_words_tally.most_common(number_of_desired_words) #Identify the most common words\n",
    "most_frequent_meaningful_words #Display the words"
   ]
  },
  {
   "cell_type": "code",
   "execution_count": null,
   "id": "529f0664-8b69-4994-a1db-82ee21bf92a0",
   "metadata": {},
   "outputs": [],
   "source": [
    "#Converting a list to a dataframe\n",
    "\n",
    "df_topWords = pd.DataFrame(most_frequent_meaningful_words, columns=['Words', 'Frequency']) #Creating a dataframe/table for our top 10 word list\n",
    "df_sorted = df_topWords.sort_values('Frequency',ascending = True) #Sort the dataframe by ascending order\n",
    "df_sorted"
   ]
  },
  {
   "cell_type": "code",
   "execution_count": null,
   "id": "f944cbaa-9790-422e-89ff-d9d06ddb878c",
   "metadata": {},
   "outputs": [],
   "source": [
    "#Plotting the data \n",
    "\n",
    "df_sorted.plot(kind=\"barh\", x= \"Words\", y= \"Frequency\", title='Top 10 Words', color = \"orange\") "
   ]
  }
 ],
 "metadata": {
  "kernelspec": {
   "display_name": "Python 3 (ipykernel)",
   "language": "python",
   "name": "python3"
  },
  "language_info": {
   "codemirror_mode": {
    "name": "ipython",
    "version": 3
   },
   "file_extension": ".py",
   "mimetype": "text/x-python",
   "name": "python",
   "nbconvert_exporter": "python",
   "pygments_lexer": "ipython3",
   "version": "3.11.5"
  }
 },
 "nbformat": 4,
 "nbformat_minor": 5
}
