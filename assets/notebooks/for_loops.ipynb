{
 "cells": [
  {
   "cell_type": "markdown",
   "id": "382c6553-8207-485d-884c-e666b3e5efae",
   "metadata": {},
   "source": [
    "# Basic for loop"
   ]
  },
  {
   "cell_type": "code",
   "execution_count": null,
   "id": "4fc7ee5b-ea9f-430d-9975-c3790b0fa53e",
   "metadata": {},
   "outputs": [],
   "source": [
    "animals = ['monkey', 'hippo', 'red panda', 'seal', 'horse', 'cat']"
   ]
  },
  {
   "cell_type": "code",
   "execution_count": null,
   "id": "d0480bd8-b33a-4c99-a29a-c2e41cb5d2f0",
   "metadata": {},
   "outputs": [],
   "source": [
    "for creature in animals:\n",
    "    print(creature)"
   ]
  },
  {
   "cell_type": "code",
   "execution_count": null,
   "id": "3745e88f-e11b-4b44-b040-0b9c99eea0d8",
   "metadata": {},
   "outputs": [],
   "source": [
    "for creature in animals:\n",
    "    print(f\"{creature.title()} is an animal on my list.\")"
   ]
  },
  {
   "cell_type": "markdown",
   "id": "af90f4db-a7a1-4e2e-a688-a6b56f72971b",
   "metadata": {},
   "source": [
    "# For loop with conditionals "
   ]
  },
  {
   "cell_type": "code",
   "execution_count": null,
   "id": "c338723e-8762-4a3b-addc-b8e6486e6262",
   "metadata": {},
   "outputs": [],
   "source": [
    "ages = [28, 19, 32, 30, 45, 52, 57, 45, 32, 33, 25, 22, 32]"
   ]
  },
  {
   "cell_type": "code",
   "execution_count": null,
   "id": "7278478c-be46-4d3e-b0b0-71b0522bc831",
   "metadata": {},
   "outputs": [],
   "source": [
    "for age in ages:\n",
    "    if age > 32:\n",
    "        print(f\"Person is {age} and is older than me.\")\n",
    "    elif age < 32:\n",
    "        print(f\"Person is {age} and is younger than me.\")\n",
    "    else:\n",
    "        print(f\"Person is {age} and is the same age as me.\")"
   ]
  },
  {
   "cell_type": "markdown",
   "id": "49d0a1ad-3f36-4259-988c-3d7d6ee3fc1c",
   "metadata": {},
   "source": [
    "# Building a list"
   ]
  },
  {
   "cell_type": "code",
   "execution_count": null,
   "id": "21e6e96f-2603-4cb9-a117-84e9498be3b1",
   "metadata": {},
   "outputs": [],
   "source": [
    "younger = []\n",
    "\n",
    "for age in ages:\n",
    "    if age < 32:\n",
    "        younger.append(age)\n",
    "\n",
    "print(younger)\n",
    "len(younger)"
   ]
  },
  {
   "cell_type": "code",
   "execution_count": null,
   "id": "30540b34-fd8f-41b3-b115-e48e5e123ce1",
   "metadata": {
    "scrolled": true
   },
   "outputs": [],
   "source": [
    "older = [age for age in ages if age > 32]\n",
    "\n",
    "print(older)\n",
    "len(older)"
   ]
  },
  {
   "cell_type": "code",
   "execution_count": null,
   "id": "163a591f-cd2a-40d9-b763-03a114aafa82",
   "metadata": {},
   "outputs": [],
   "source": [
    "new_ages = []\n",
    "\n",
    "for age in ages:\n",
    "\tif age > 20:\n",
    "\t\tnew_ages.append(age)\n",
    "\n",
    "print(new_ages)"
   ]
  },
  {
   "cell_type": "markdown",
   "id": "2939f16f-d643-4564-b01b-d80e4cc44a34",
   "metadata": {},
   "source": [
    "# Identifying the most and least common items in a list"
   ]
  },
  {
   "cell_type": "code",
   "execution_count": null,
   "id": "028d90b6-c783-4a9a-aa6d-961dd7da5040",
   "metadata": {},
   "outputs": [],
   "source": [
    "ages_long = [28,55,30,19,32,30,45,52,57,45,32,33,25,22,32,32,30,45,52,57,45,30,28,19,45,45,45,30,28,32,33,33]"
   ]
  },
  {
   "cell_type": "code",
   "execution_count": null,
   "id": "05c0dad0-4912-49ba-bad9-72132d18e1b1",
   "metadata": {},
   "outputs": [],
   "source": [
    "from collections import Counter"
   ]
  },
  {
   "cell_type": "code",
   "execution_count": null,
   "id": "ad50f864-c26c-4df6-a042-205774ff4572",
   "metadata": {},
   "outputs": [],
   "source": [
    "Counter(ages_long)"
   ]
  },
  {
   "cell_type": "code",
   "execution_count": null,
   "id": "e3efe525-2a35-4d2c-965d-bbb75766457a",
   "metadata": {},
   "outputs": [],
   "source": [
    "ages_tally = Counter(ages_long)\n",
    "ages_tally.most_common()"
   ]
  },
  {
   "cell_type": "code",
   "execution_count": null,
   "id": "ee1f5fe8-caec-42d6-858c-90b90d8b4b5d",
   "metadata": {},
   "outputs": [],
   "source": [
    "ages_tally.most_common(3)"
   ]
  },
  {
   "cell_type": "code",
   "execution_count": null,
   "id": "d92231f7-8491-4ef4-86b4-5cbc65de1bc8",
   "metadata": {},
   "outputs": [],
   "source": [
    "ages_tally.most_common()[-2:]"
   ]
  }
 ],
 "metadata": {
  "kernelspec": {
   "display_name": "Python 3 (ipykernel)",
   "language": "python",
   "name": "python3"
  },
  "language_info": {
   "codemirror_mode": {
    "name": "ipython",
    "version": 3
   },
   "file_extension": ".py",
   "mimetype": "text/x-python",
   "name": "python",
   "nbconvert_exporter": "python",
   "pygments_lexer": "ipython3",
   "version": "3.11.5"
  }
 },
 "nbformat": 4,
 "nbformat_minor": 5
}
