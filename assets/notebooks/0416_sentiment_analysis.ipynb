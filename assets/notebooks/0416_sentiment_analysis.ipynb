{
 "cells": [
  {
   "cell_type": "code",
   "execution_count": null,
   "metadata": {
    "id": "xQAbEVD4gC7K",
    "scrolled": true
   },
   "outputs": [],
   "source": [
    "!pip install vaderSentiment"
   ]
  },
  {
   "cell_type": "code",
   "execution_count": 1,
   "metadata": {
    "id": "40z2p-84gXsY"
   },
   "outputs": [],
   "source": [
    "from vaderSentiment.vaderSentiment import SentimentIntensityAnalyzer"
   ]
  },
  {
   "cell_type": "code",
   "execution_count": 2,
   "metadata": {
    "id": "7a424_NDgeme"
   },
   "outputs": [],
   "source": [
    "import pandas as pd\n",
    "pd.options.display.max_colwidth = 400"
   ]
  },
  {
   "cell_type": "code",
   "execution_count": 4,
   "metadata": {
    "id": "HFSv16tygd1B"
   },
   "outputs": [],
   "source": [
    "sentimentAnalyser = SentimentIntensityAnalyzer()"
   ]
  },
  {
   "cell_type": "code",
   "execution_count": 11,
   "metadata": {
    "id": "aQ94a8oaghPr"
   },
   "outputs": [
    {
     "data": {
      "text/plain": [
       "{'neg': 0.435, 'neu': 0.235, 'pos': 0.329, 'compound': -0.2263}"
      ]
     },
     "execution_count": 11,
     "metadata": {},
     "output_type": "execute_result"
    }
   ],
   "source": [
    "sentimentAnalyser.polarity_scores(\"I hate Marvel movies\")"
   ]
  },
  {
   "cell_type": "code",
   "execution_count": 7,
   "metadata": {
    "colab": {
     "base_uri": "https://localhost:8080/"
    },
    "id": "i8AhR1JTgkIA",
    "outputId": "ed389cab-b94a-491a-8ac9-95fe52d1ae77"
   },
   "outputs": [
    {
     "name": "stdout",
     "output_type": "stream",
     "text": [
      "I like the Marvel movies: {'neg': 0.0, 'neu': 0.361, 'pos': 0.639, 'compound': 0.6486}\n",
      "'I like the Marvel movies' \n",
      "\n",
      "🙁 Negative Sentiment: 0.0 \n",
      "\n",
      "😐 Neutral Sentiment: 0.361 \n",
      "\n",
      "😀 Positive Sentiment: 0.639 \n",
      "\n",
      "✨ Compound Sentiment: 0.6486 \n",
      "\n",
      "--- \n",
      "\n",
      "I don't like the Marvel movies: {'neg': 0.526, 'neu': 0.474, 'pos': 0.0, 'compound': -0.5334}\n",
      "'I don't like the Marvel movies' \n",
      "\n",
      "🙁 Negative Sentiment: 0.526 \n",
      "\n",
      "😐 Neutral Sentiment: 0.474 \n",
      "\n",
      "😀 Positive Sentiment: 0.0 \n",
      "\n",
      "✨ Compound Sentiment: -0.5334 \n",
      "\n",
      "--- \n",
      "\n",
      "I despise the Marvel movies with every fiber of my being: {'neg': 0.169, 'neu': 0.634, 'pos': 0.197, 'compound': 0.1027}\n",
      "'I despise the Marvel movies with every fiber of my being' \n",
      "\n",
      "🙁 Negative Sentiment: 0.169 \n",
      "\n",
      "😐 Neutral Sentiment: 0.634 \n",
      "\n",
      "😀 Positive Sentiment: 0.197 \n",
      "\n",
      "✨ Compound Sentiment: 0.1027 \n",
      "\n",
      "--- \n",
      "\n",
      "I don't *not* live the Marvel movies: {'neg': 0.28, 'neu': 0.72, 'pos': 0.0, 'compound': -0.3252}\n",
      "'I don't *not* live the Marvel movies' \n",
      "\n",
      "🙁 Negative Sentiment: 0.28 \n",
      "\n",
      "😐 Neutral Sentiment: 0.72 \n",
      "\n",
      "😀 Positive Sentiment: 0.0 \n",
      "\n",
      "✨ Compound Sentiment: -0.3252 \n",
      "\n",
      "--- \n",
      "\n"
     ]
    }
   ],
   "source": [
    "# List of sentences\n",
    "sentences = [\"I like the Marvel movies\",\n",
    "             \"I don't like the Marvel movies\",\n",
    "             \"I despise the Marvel movies with every fiber of my being\",\n",
    "             \"I don't *not* live the Marvel movies\"]\n",
    "\n",
    "# Loop through list of sentences\n",
    "for sentence in sentences:\n",
    "    # Run VADER on each sentence\n",
    "    sentiment_scores = sentimentAnalyser.polarity_scores(sentence)\n",
    "\n",
    "    # Print scores for each sentence\n",
    "    print(f\"{sentence}: {sentiment_scores}\")\n",
    "\n",
    "    # Or print it in a nicer format\n",
    "    print(f\"\"\"'{sentence}' \\n\n",
    "🙁 Negative Sentiment: {sentiment_scores['neg']} \\n\n",
    "😐 Neutral Sentiment: {sentiment_scores['neu']} \\n\n",
    "😀 Positive Sentiment: {sentiment_scores['pos']} \\n\n",
    "✨ Compound Sentiment: {sentiment_scores['compound']} \\n\n",
    "--- \\n\"\"\")"
   ]
  },
  {
   "cell_type": "code",
   "execution_count": null,
   "metadata": {
    "colab": {
     "base_uri": "https://localhost:8080/"
    },
    "id": "tFfYq2DS7StE",
    "outputId": "7d5a6a25-6881-44b0-9259-5b11c052d585"
   },
   "outputs": [],
   "source": [
    "# List of lyrics\n",
    "blue_grey = ['I really don’t know what went wrong',\n",
    "'I grew up with a blue question mark in my mind',\n",
    "'Maybe that’s why I’ve been fighting for my life',\n",
    "'But looking behind, I’m standing hеre dazed',\n",
    "'The powеrful shadow swallows me',\n",
    "'The question mark is still blue']\n",
    "\n",
    "# Loop through list of sentences\n",
    "for lyric in blue_grey:\n",
    "    # Run VADER on each sentence\n",
    "    sentiment_scores = sentimentAnalyser.polarity_scores(lyric)\n",
    "\n",
    "    # Print scores for each sentence\n",
    "    print(f\"\"\"'{lyric}' \\n\n",
    "🙁 Negative Sentiment: {sentiment_scores['neg']} \\n\n",
    "😐 Neutral Sentiment: {sentiment_scores['neu']} \\n\n",
    "😀 Positive Sentiment: {sentiment_scores['pos']} \\n\n",
    "✨ Compound Sentiment: {sentiment_scores['compound']} \\n\n",
    "--- \\n\"\"\")"
   ]
  }
 ],
 "metadata": {
  "colab": {
   "provenance": []
  },
  "kernelspec": {
   "display_name": "Python 3 (ipykernel)",
   "language": "python",
   "name": "python3"
  },
  "language_info": {
   "codemirror_mode": {
    "name": "ipython",
    "version": 3
   },
   "file_extension": ".py",
   "mimetype": "text/x-python",
   "name": "python",
   "nbconvert_exporter": "python",
   "pygments_lexer": "ipython3",
   "version": "3.11.5"
  }
 },
 "nbformat": 4,
 "nbformat_minor": 4
}
