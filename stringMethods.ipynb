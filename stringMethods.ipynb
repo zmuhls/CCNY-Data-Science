{
  "nbformat": 4,
  "nbformat_minor": 0,
  "metadata": {
    "colab": {
      "provenance": [],
      "authorship_tag": "ABX9TyMQz2kX87hPCAWWYvIwR/g/",
      "include_colab_link": true
    },
    "kernelspec": {
      "name": "python3",
      "display_name": "Python 3"
    },
    "language_info": {
      "name": "python"
    }
  },
  "cells": [
    {
      "cell_type": "markdown",
      "metadata": {
        "id": "view-in-github",
        "colab_type": "text"
      },
      "source": [
        "<a href=\"https://colab.research.google.com/github/zmuhls/ccny-data-science/blob/main/stringMethods.ipynb\" target=\"_parent\"><img src=\"https://colab.research.google.com/assets/colab-badge.svg\" alt=\"Open In Colab\"/></a>"
      ]
    },
    {
      "cell_type": "markdown",
      "source": [
        "## Working with Strings"
      ],
      "metadata": {
        "id": "QfiSJFJA4nty"
      }
    },
    {
      "cell_type": "markdown",
      "source": [
        "A string is a Python data type that is treated like text, even if it contains a number. Strings are always enclosed by either single quotation marks `'this is a string'` or double quotation marks `\"this is a string\"`."
      ],
      "metadata": {
        "id": "ADy6dR_w4iGl"
      }
    },
    {
      "cell_type": "code",
      "source": [
        "type('this is a string')"
      ],
      "metadata": {
        "colab": {
          "base_uri": "https://localhost:8080/"
        },
        "id": "lGnnt4DJ8Yug",
        "outputId": "d8277e07-94ea-4bb5-f67f-51df25218c76"
      },
      "execution_count": 21,
      "outputs": [
        {
          "output_type": "execute_result",
          "data": {
            "text/plain": [
              "str"
            ]
          },
          "metadata": {},
          "execution_count": 21
        }
      ]
    },
    {
      "cell_type": "code",
      "source": [
        "type(\"this is also a string, even though it contains a number like 42\")"
      ],
      "metadata": {
        "colab": {
          "base_uri": "https://localhost:8080/"
        },
        "id": "INYUPBMC8a0o",
        "outputId": "335fe96a-b80c-42be-cbe8-072f67f8f816"
      },
      "execution_count": 22,
      "outputs": [
        {
          "output_type": "execute_result",
          "data": {
            "text/plain": [
              "str"
            ]
          },
          "metadata": {},
          "execution_count": 22
        }
      ]
    },
    {
      "cell_type": "code",
      "source": [
        "this is not a string"
      ],
      "metadata": {
        "id": "P67je8aL8c1i"
      },
      "execution_count": null,
      "outputs": []
    },
    {
      "cell_type": "markdown",
      "source": [
        "### Handling quotation marks inside of a string\n",
        "If you need to include a single or double quotation mark inside of a string, then you need to either:\n",
        "\n",
        "1. use the opposite kind of quotation mark inside the string;\n",
        "\n",
        "2. or “escape” the quotation mark by using a backslash `\\` before it.\n"
      ],
      "metadata": {
        "id": "1sVYu_sC80-w"
      }
    },
    {
      "cell_type": "markdown",
      "source": [
        "**Note**: *A Python index begins with 0. So the 0th character in a Python string is actually the 1st character.*"
      ],
      "metadata": {
        "id": "JDr10Hqa8QZl"
      }
    },
    {
      "cell_type": "markdown",
      "source": [
        "## String Methods"
      ],
      "metadata": {
        "id": "ZjSuvMAg8pBQ"
      }
    },
    {
      "cell_type": "markdown",
      "source": [
        "Each data type has different properties and capabilities. So there are special things that only strings can do, and there are special ways of interacting with strings."
      ],
      "metadata": {
        "id": "dJNZ3cVk9YdM"
      }
    },
    {
      "cell_type": "code",
      "source": [
        "lemonade_snippet = \"Hold up, they don't love you like I love you\""
      ],
      "metadata": {
        "id": "J9q-aAE_9d5x"
      },
      "execution_count": 28,
      "outputs": []
    },
    {
      "cell_type": "markdown",
      "source": [
        "#### Index"
      ],
      "metadata": {
        "id": "WEYnm3zW9sBp"
      }
    },
    {
      "cell_type": "code",
      "source": [
        "lemonade_snippet[0]"
      ],
      "metadata": {
        "colab": {
          "base_uri": "https://localhost:8080/",
          "height": 36
        },
        "id": "ddn0Zwew8Pcc",
        "outputId": "330731a6-d7ff-45e6-e463-86dc5b64247f"
      },
      "execution_count": 29,
      "outputs": [
        {
          "output_type": "execute_result",
          "data": {
            "text/plain": [
              "'H'"
            ],
            "application/vnd.google.colaboratory.intrinsic+json": {
              "type": "string"
            }
          },
          "metadata": {},
          "execution_count": 29
        }
      ]
    },
    {
      "cell_type": "markdown",
      "source": [
        "Splice"
      ],
      "metadata": {
        "id": "Dl8zpcgf9w6i"
      }
    },
    {
      "cell_type": "code",
      "source": [
        "lemonade_snippet[0:20]"
      ],
      "metadata": {
        "colab": {
          "base_uri": "https://localhost:8080/",
          "height": 36
        },
        "id": "KOH-0fXt950n",
        "outputId": "15da8493-19aa-47d7-aaf1-6824a831657b"
      },
      "execution_count": 30,
      "outputs": [
        {
          "output_type": "execute_result",
          "data": {
            "text/plain": [
              "\"Hold up, they don't \""
            ],
            "application/vnd.google.colaboratory.intrinsic+json": {
              "type": "string"
            }
          },
          "metadata": {},
          "execution_count": 30
        }
      ]
    },
    {
      "cell_type": "markdown",
      "source": [
        "#### Add"
      ],
      "metadata": {
        "id": "mIIV1s_T98LR"
      }
    },
    {
      "cell_type": "code",
      "source": [
        "lemonade_snippet + \" // Slow down, they don't love you like I love you\""
      ],
      "metadata": {
        "colab": {
          "base_uri": "https://localhost:8080/",
          "height": 36
        },
        "id": "4D5xHPjk9_L0",
        "outputId": "0796a98d-d70e-4598-e79b-c202c903dbee"
      },
      "execution_count": 31,
      "outputs": [
        {
          "output_type": "execute_result",
          "data": {
            "text/plain": [
              "\"Hold up, they don't love you like I love you // Slow down, they don't love you like I love you\""
            ],
            "application/vnd.google.colaboratory.intrinsic+json": {
              "type": "string"
            }
          },
          "metadata": {},
          "execution_count": 31
        }
      ]
    },
    {
      "cell_type": "markdown",
      "source": [
        "#### Make uppercase or lowercase"
      ],
      "metadata": {
        "id": "KxBG86wH95U4"
      }
    },
    {
      "cell_type": "code",
      "source": [
        "print(lemonade_snippet.upper())\n",
        "print(lemonade_snippet.lower())"
      ],
      "metadata": {
        "colab": {
          "base_uri": "https://localhost:8080/"
        },
        "id": "82ns2JgJ-D9g",
        "outputId": "d4df1410-a901-425b-ef28-3b0af1230a6b"
      },
      "execution_count": 33,
      "outputs": [
        {
          "output_type": "stream",
          "name": "stdout",
          "text": [
            "HOLD UP, THEY DON'T LOVE YOU LIKE I LOVE YOU\n",
            "hold up, they don't love you like i love you\n"
          ]
        }
      ]
    },
    {
      "cell_type": "markdown",
      "source": [
        "## Practice with Strings\n",
        "\n",
        "Let's practice now with a longer text, namely, Franz Kafka's *The Metamorphosis*"
      ],
      "metadata": {
        "id": "SPypK4mM-g0A"
      }
    },
    {
      "cell_type": "code",
      "execution_count": 41,
      "metadata": {
        "colab": {
          "base_uri": "https://localhost:8080/",
          "height": 73
        },
        "id": "RunAfZw74cSI",
        "outputId": "23b13044-f99d-4295-c114-246c712d8cda"
      },
      "outputs": [
        {
          "output_type": "execute_result",
          "data": {
            "text/plain": [
              "'One morning, when Gregor Samsa woke from troubled dreams, he found\\nhimself transformed in his bed into a horrible vermin. He lay on his\\narmour-like back, and if he lifted his head a little he could see his\\nbrown belly, slightly domed and divided by a'"
            ],
            "application/vnd.google.colaboratory.intrinsic+json": {
              "type": "string"
            }
          },
          "metadata": {},
          "execution_count": 41
        }
      ],
      "source": [
        "sample_text = open(\"/content/metamorphosis.txt\").read()\n",
        "sample_text[0:250]"
      ]
    },
    {
      "cell_type": "markdown",
      "source": [
        "Let’s create a varaible `first_line` and assign it the first sentence of The Metamorphosis."
      ],
      "metadata": {
        "id": "WFHpmsUI_i2B"
      }
    },
    {
      "cell_type": "code",
      "source": [
        "first_line = sample_text[:121]\n",
        "print(first_line)"
      ],
      "metadata": {
        "colab": {
          "base_uri": "https://localhost:8080/"
        },
        "id": "f3MEyXEw_h7U",
        "outputId": "fbcb3389-fe9f-4ad8-f532-27294e6636bc"
      },
      "execution_count": 42,
      "outputs": [
        {
          "output_type": "stream",
          "name": "stdout",
          "text": [
            "One morning, when Gregor Samsa woke from troubled dreams, he found\n",
            "himself transformed in his bed into a horrible vermin.\n"
          ]
        }
      ]
    },
    {
      "cell_type": "markdown",
      "source": [
        "### Replace Words"
      ],
      "metadata": {
        "id": "fsBg9fa576TI"
      }
    },
    {
      "cell_type": "markdown",
      "source": [
        "To replace a certain string within a string, you can used the replace method."
      ],
      "metadata": {
        "id": "O0_cQttHAHjA"
      }
    },
    {
      "cell_type": "code",
      "source": [
        "print(first_line.replace(\"morning\", \"evening\"))"
      ],
      "metadata": {
        "colab": {
          "base_uri": "https://localhost:8080/"
        },
        "id": "02SI3ee8_zOn",
        "outputId": "258b6588-a7e3-4612-aa9a-823fe0e85778"
      },
      "execution_count": 43,
      "outputs": [
        {
          "output_type": "stream",
          "name": "stdout",
          "text": [
            "One evening, when Gregor Samsa woke from troubled dreams, he found\n",
            "himself transformed in his bed into a horrible vermin.\n"
          ]
        }
      ]
    },
    {
      "cell_type": "code",
      "source": [
        "print(first_line.replace(\"vermin\", \"grilled cheese\"))"
      ],
      "metadata": {
        "id": "fDHsHiMC_8ta"
      },
      "execution_count": null,
      "outputs": []
    },
    {
      "cell_type": "markdown",
      "source": [
        "### Transform Strings to Lowercase/Uppercase"
      ],
      "metadata": {
        "id": "le0co38W_zAk"
      }
    },
    {
      "cell_type": "markdown",
      "source": [
        "String Method\n",
        "\n",
        "\n",
        "makes the string lowercase:\n",
        "\n",
        "* `string.lower()`\n",
        "\n",
        "makes the string uppercase\n",
        "\n",
        "* `string.upper()`\n",
        "\n",
        "makes the string titlecase\n",
        "\n",
        "* `string.title()`\n"
      ],
      "metadata": {
        "id": "6h4anW_3AI8T"
      }
    },
    {
      "cell_type": "code",
      "source": [
        "(\"I am really very quiet\").lower()"
      ],
      "metadata": {
        "id": "wmqzVmQ_AYwz"
      },
      "execution_count": null,
      "outputs": []
    },
    {
      "cell_type": "code",
      "source": [],
      "metadata": {
        "id": "Strvr0utAlZt"
      },
      "execution_count": null,
      "outputs": []
    },
    {
      "cell_type": "code",
      "source": [
        "(\"I am really very quiet\").upper()"
      ],
      "metadata": {
        "id": "Vs2hIP8DAcM1"
      },
      "execution_count": null,
      "outputs": []
    },
    {
      "cell_type": "markdown",
      "source": [
        "### Your turn!"
      ],
      "metadata": {
        "id": "Y8esauPdAe8i"
      }
    },
    {
      "cell_type": "markdown",
      "source": [
        "Transform the first line of Kafka’s The Metamorphosis to upper case:"
      ],
      "metadata": {
        "id": "ia_ZhvsdAjPO"
      }
    },
    {
      "cell_type": "code",
      "source": [
        "# your code here"
      ],
      "metadata": {
        "id": "GSZNiY9tAlCB"
      },
      "execution_count": null,
      "outputs": []
    },
    {
      "cell_type": "markdown",
      "source": [
        "### Split and Join Strings by a Delimiter"
      ],
      "metadata": {
        "id": "abkWpsSCAoOq"
      }
    },
    {
      "cell_type": "markdown",
      "source": [
        "Returns a list of substrings separated by the given delimiter:\n",
        "* `string.split('delim')`"
      ],
      "metadata": {
        "id": "cn-SmTIvAqOB"
      }
    },
    {
      "cell_type": "code",
      "source": [
        "first_line.split()"
      ],
      "metadata": {
        "id": "6EE1ocjEAw09"
      },
      "execution_count": null,
      "outputs": []
    },
    {
      "cell_type": "markdown",
      "source": [
        "Your turn! Split on the words “dreams” and see what happens."
      ],
      "metadata": {
        "id": "aMo4kgN6A04q"
      }
    },
    {
      "cell_type": "code",
      "source": [
        "# your code here"
      ],
      "metadata": {
        "id": "nvifsg78A12O"
      },
      "execution_count": null,
      "outputs": []
    },
    {
      "cell_type": "markdown",
      "source": [
        "You can also put something back together again with the join() method!"
      ],
      "metadata": {
        "id": "ZCtuoO4vA8GA"
      }
    },
    {
      "cell_type": "code",
      "source": [
        "kafka_split_words = first_line.split()\n",
        "kafka_split_words"
      ],
      "metadata": {
        "colab": {
          "base_uri": "https://localhost:8080/"
        },
        "id": "5uHWVqreA-qY",
        "outputId": "a5516803-03f9-46a2-ba67-48ed90ac15c0"
      },
      "execution_count": 44,
      "outputs": [
        {
          "output_type": "execute_result",
          "data": {
            "text/plain": [
              "['One',\n",
              " 'morning,',\n",
              " 'when',\n",
              " 'Gregor',\n",
              " 'Samsa',\n",
              " 'woke',\n",
              " 'from',\n",
              " 'troubled',\n",
              " 'dreams,',\n",
              " 'he',\n",
              " 'found',\n",
              " 'himself',\n",
              " 'transformed',\n",
              " 'in',\n",
              " 'his',\n",
              " 'bed',\n",
              " 'into',\n",
              " 'a',\n",
              " 'horrible',\n",
              " 'vermin.']"
            ]
          },
          "metadata": {},
          "execution_count": 44
        }
      ]
    },
    {
      "cell_type": "markdown",
      "source": [
        "Now, join them back together again..."
      ],
      "metadata": {
        "id": "BnxvARP4BJBo"
      }
    },
    {
      "cell_type": "code",
      "source": [
        "\" \".join(kafka_split_words)"
      ],
      "metadata": {
        "colab": {
          "base_uri": "https://localhost:8080/",
          "height": 54
        },
        "id": "OZbKvEEDBHlk",
        "outputId": "0c01b9ce-1545-4daf-c962-ed7c17bbd77c"
      },
      "execution_count": 45,
      "outputs": [
        {
          "output_type": "execute_result",
          "data": {
            "text/plain": [
              "'One morning, when Gregor Samsa woke from troubled dreams, he found himself transformed in his bed into a horrible vermin.'"
            ],
            "application/vnd.google.colaboratory.intrinsic+json": {
              "type": "string"
            }
          },
          "metadata": {},
          "execution_count": 45
        }
      ]
    }
  ]
}