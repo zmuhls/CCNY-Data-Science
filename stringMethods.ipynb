{
  "nbformat": 4,
  "nbformat_minor": 0,
  "metadata": {
    "colab": {
      "provenance": [],
      "authorship_tag": "ABX9TyOgejCtVdwloAAhUelMIIiN",
      "include_colab_link": true
    },
    "kernelspec": {
      "name": "python3",
      "display_name": "Python 3"
    },
    "language_info": {
      "name": "python"
    }
  },
  "cells": [
    {
      "cell_type": "markdown",
      "metadata": {
        "id": "view-in-github",
        "colab_type": "text"
      },
      "source": [
        "<a href=\"https://colab.research.google.com/github/zmuhls/ccny-data-science/blob/main/stringMethods.ipynb\" target=\"_parent\"><img src=\"https://colab.research.google.com/assets/colab-badge.svg\" alt=\"Open In Colab\"/></a>"
      ]
    },
    {
      "cell_type": "markdown",
      "source": [
        "## Handling Strings in Python"
      ],
      "metadata": {
        "id": "QfiSJFJA4nty"
      }
    },
    {
      "cell_type": "markdown",
      "source": [
        "A string is a Python data type that is treated like text, even if it contains a number. Strings are always enclosed by either single quotation marks `'this is a string'` or double quotation marks `\"this is a string\"`."
      ],
      "metadata": {
        "id": "ADy6dR_w4iGl"
      }
    },
    {
      "cell_type": "code",
      "source": [
        "type('this is a string')"
      ],
      "metadata": {
        "colab": {
          "base_uri": "https://localhost:8080/"
        },
        "id": "lGnnt4DJ8Yug",
        "outputId": "d7aa0d05-e78d-4aa4-fa52-4aca988ecd09"
      },
      "execution_count": 1,
      "outputs": [
        {
          "output_type": "execute_result",
          "data": {
            "text/plain": [
              "str"
            ]
          },
          "metadata": {},
          "execution_count": 1
        }
      ]
    },
    {
      "cell_type": "code",
      "source": [
        "type(\"this is also a string, even though it contains a number like 42\")"
      ],
      "metadata": {
        "colab": {
          "base_uri": "https://localhost:8080/"
        },
        "id": "INYUPBMC8a0o",
        "outputId": "a7707169-90f4-4539-938a-aa82817163df"
      },
      "execution_count": 2,
      "outputs": [
        {
          "output_type": "execute_result",
          "data": {
            "text/plain": [
              "str"
            ]
          },
          "metadata": {},
          "execution_count": 2
        }
      ]
    },
    {
      "cell_type": "code",
      "source": [
        "# this is not a string"
      ],
      "metadata": {
        "id": "P67je8aL8c1i"
      },
      "execution_count": 10,
      "outputs": []
    },
    {
      "cell_type": "markdown",
      "source": [
        "### Handling quotation marks inside of a string\n",
        "If you need to include a single or double quotation mark inside of a string, then you need to either:\n",
        "\n",
        "1. use the opposite kind of quotation mark inside the string;\n",
        "\n",
        "2. or “escape” the quotation mark by using a backslash `\\` before it.\n"
      ],
      "metadata": {
        "id": "1sVYu_sC80-w"
      }
    },
    {
      "cell_type": "markdown",
      "source": [
        "**Note**: *A Python index begins with 0. So the 0th character in a Python string is actually the 1st character.*"
      ],
      "metadata": {
        "id": "JDr10Hqa8QZl"
      }
    },
    {
      "cell_type": "markdown",
      "source": [
        "## String Methods"
      ],
      "metadata": {
        "id": "ZjSuvMAg8pBQ"
      }
    },
    {
      "cell_type": "markdown",
      "source": [
        "Each data type has different properties and capabilities. So there are special things that only strings can do, and there are special ways of interacting with strings."
      ],
      "metadata": {
        "id": "dJNZ3cVk9YdM"
      }
    },
    {
      "cell_type": "code",
      "source": [
        "lemonade_snippet = \"Hold up, they don't love you like I love you\""
      ],
      "metadata": {
        "id": "J9q-aAE_9d5x"
      },
      "execution_count": 4,
      "outputs": []
    },
    {
      "cell_type": "markdown",
      "source": [
        "#### Index"
      ],
      "metadata": {
        "id": "WEYnm3zW9sBp"
      }
    },
    {
      "cell_type": "code",
      "source": [
        "lemonade_snippet[0]"
      ],
      "metadata": {
        "colab": {
          "base_uri": "https://localhost:8080/",
          "height": 36
        },
        "id": "ddn0Zwew8Pcc",
        "outputId": "aa98e5f6-9f9c-471d-9602-6952534c4921"
      },
      "execution_count": 5,
      "outputs": [
        {
          "output_type": "execute_result",
          "data": {
            "text/plain": [
              "'H'"
            ],
            "application/vnd.google.colaboratory.intrinsic+json": {
              "type": "string"
            }
          },
          "metadata": {},
          "execution_count": 5
        }
      ]
    },
    {
      "cell_type": "markdown",
      "source": [
        "#### Splice"
      ],
      "metadata": {
        "id": "Dl8zpcgf9w6i"
      }
    },
    {
      "cell_type": "code",
      "source": [
        "lemonade_snippet[0:20]"
      ],
      "metadata": {
        "colab": {
          "base_uri": "https://localhost:8080/",
          "height": 36
        },
        "id": "KOH-0fXt950n",
        "outputId": "3571133a-e0e0-48c6-f43e-c9830dcf75d7"
      },
      "execution_count": 6,
      "outputs": [
        {
          "output_type": "execute_result",
          "data": {
            "text/plain": [
              "\"Hold up, they don't \""
            ],
            "application/vnd.google.colaboratory.intrinsic+json": {
              "type": "string"
            }
          },
          "metadata": {},
          "execution_count": 6
        }
      ]
    },
    {
      "cell_type": "markdown",
      "source": [
        "#### Add"
      ],
      "metadata": {
        "id": "mIIV1s_T98LR"
      }
    },
    {
      "cell_type": "code",
      "source": [
        "lemonade_snippet + \" // Slow down, they don't love you like I love you\""
      ],
      "metadata": {
        "colab": {
          "base_uri": "https://localhost:8080/",
          "height": 54
        },
        "id": "4D5xHPjk9_L0",
        "outputId": "2c5dfaee-eac2-459c-8919-4ad504a3aa3c"
      },
      "execution_count": 7,
      "outputs": [
        {
          "output_type": "execute_result",
          "data": {
            "text/plain": [
              "\"Hold up, they don't love you like I love you // Slow down, they don't love you like I love you\""
            ],
            "application/vnd.google.colaboratory.intrinsic+json": {
              "type": "string"
            }
          },
          "metadata": {},
          "execution_count": 7
        }
      ]
    },
    {
      "cell_type": "markdown",
      "source": [
        "#### Make uppercase or lowercase"
      ],
      "metadata": {
        "id": "KxBG86wH95U4"
      }
    },
    {
      "cell_type": "code",
      "source": [
        "print(lemonade_snippet.upper())\n",
        "print(lemonade_snippet.lower())"
      ],
      "metadata": {
        "colab": {
          "base_uri": "https://localhost:8080/"
        },
        "id": "82ns2JgJ-D9g",
        "outputId": "c566d160-24c3-4201-bd81-de66e8da6a75"
      },
      "execution_count": 8,
      "outputs": [
        {
          "output_type": "stream",
          "name": "stdout",
          "text": [
            "HOLD UP, THEY DON'T LOVE YOU LIKE I LOVE YOU\n",
            "hold up, they don't love you like i love you\n"
          ]
        }
      ]
    },
    {
      "cell_type": "markdown",
      "source": [
        "## Practice with Strings\n",
        "\n",
        "Let's practice now with a longer text, namely, Franz Kafka's *The Metamorphosis*"
      ],
      "metadata": {
        "id": "SPypK4mM-g0A"
      }
    },
    {
      "cell_type": "code",
      "execution_count": 15,
      "metadata": {
        "colab": {
          "base_uri": "https://localhost:8080/",
          "height": 91
        },
        "id": "RunAfZw74cSI",
        "outputId": "3e0c1907-0321-47fd-dd13-2ad9f6714e1f"
      },
      "outputs": [
        {
          "output_type": "execute_result",
          "data": {
            "text/plain": [
              "'One morning, when Gregor Samsa woke from troubled dreams, he found\\nhimself transformed in his bed into a horrible vermin. He lay on his\\narmour-like back, and if he lifted his head a little he could see his\\nbrown belly, slightly domed and divided by a'"
            ],
            "application/vnd.google.colaboratory.intrinsic+json": {
              "type": "string"
            }
          },
          "metadata": {},
          "execution_count": 15
        }
      ],
      "source": [
        "sample_text = open(\"/content/sample_data/metamorphosis.txt\").read()\n",
        "sample_text[0:250]"
      ]
    },
    {
      "cell_type": "markdown",
      "source": [
        "Let’s create a varaible `first_line` and assign it the first sentence of The Metamorphosis."
      ],
      "metadata": {
        "id": "WFHpmsUI_i2B"
      }
    },
    {
      "cell_type": "code",
      "source": [
        "first_line = sample_text[:121]\n",
        "print(first_line)"
      ],
      "metadata": {
        "colab": {
          "base_uri": "https://localhost:8080/"
        },
        "id": "f3MEyXEw_h7U",
        "outputId": "94f4f1ce-c09f-4afe-c876-bb386e9dc534"
      },
      "execution_count": 2,
      "outputs": [
        {
          "output_type": "stream",
          "name": "stdout",
          "text": [
            "One morning, when Gregor Samsa woke from troubled dreams, he found\n",
            "himself transformed in his bed into a horrible vermin.\n"
          ]
        }
      ]
    },
    {
      "cell_type": "markdown",
      "source": [
        "### Replace Words"
      ],
      "metadata": {
        "id": "fsBg9fa576TI"
      }
    },
    {
      "cell_type": "markdown",
      "source": [
        "To replace a certain string within a string, you can used the replace method."
      ],
      "metadata": {
        "id": "O0_cQttHAHjA"
      }
    },
    {
      "cell_type": "code",
      "source": [
        "print(first_line.replace(\"morning\", \"evening\"))"
      ],
      "metadata": {
        "colab": {
          "base_uri": "https://localhost:8080/"
        },
        "id": "02SI3ee8_zOn",
        "outputId": "2fbe7a9c-da74-43f9-feb5-247d30e056e7"
      },
      "execution_count": 3,
      "outputs": [
        {
          "output_type": "stream",
          "name": "stdout",
          "text": [
            "One evening, when Gregor Samsa woke from troubled dreams, he found\n",
            "himself transformed in his bed into a horrible vermin.\n"
          ]
        }
      ]
    },
    {
      "cell_type": "code",
      "source": [
        "print(first_line.replace(\"vermin\", \"grilled cheese\"))"
      ],
      "metadata": {
        "id": "fDHsHiMC_8ta",
        "colab": {
          "base_uri": "https://localhost:8080/"
        },
        "outputId": "0fbbce4e-4198-4232-f328-719f94168311"
      },
      "execution_count": 4,
      "outputs": [
        {
          "output_type": "stream",
          "name": "stdout",
          "text": [
            "One morning, when Gregor Samsa woke from troubled dreams, he found\n",
            "himself transformed in his bed into a horrible grilled cheese.\n"
          ]
        }
      ]
    },
    {
      "cell_type": "markdown",
      "source": [
        "### Transform Strings to Lowercase/Uppercase"
      ],
      "metadata": {
        "id": "le0co38W_zAk"
      }
    },
    {
      "cell_type": "markdown",
      "source": [
        "String Method\n",
        "\n",
        "\n",
        "makes the string lowercase:\n",
        "\n",
        "* `string.lower()`\n",
        "\n",
        "makes the string uppercase\n",
        "\n",
        "* `string.upper()`\n",
        "\n",
        "makes the string titlecase\n",
        "\n",
        "* `string.title()`\n"
      ],
      "metadata": {
        "id": "6h4anW_3AI8T"
      }
    },
    {
      "cell_type": "code",
      "source": [
        "(first_line).lower()"
      ],
      "metadata": {
        "id": "wmqzVmQ_AYwz",
        "colab": {
          "base_uri": "https://localhost:8080/",
          "height": 54
        },
        "outputId": "2a643fd3-feb6-46a6-bada-f7a80df84faf"
      },
      "execution_count": 8,
      "outputs": [
        {
          "output_type": "execute_result",
          "data": {
            "text/plain": [
              "'one morning, when gregor samsa woke from troubled dreams, he found\\nhimself transformed in his bed into a horrible vermin.'"
            ],
            "application/vnd.google.colaboratory.intrinsic+json": {
              "type": "string"
            }
          },
          "metadata": {},
          "execution_count": 8
        }
      ]
    },
    {
      "cell_type": "code",
      "source": [
        "(first_line).upper()"
      ],
      "metadata": {
        "id": "Vs2hIP8DAcM1",
        "colab": {
          "base_uri": "https://localhost:8080/",
          "height": 54
        },
        "outputId": "1431274c-c8d6-4c53-c971-a3463b6ee1fe"
      },
      "execution_count": 9,
      "outputs": [
        {
          "output_type": "execute_result",
          "data": {
            "text/plain": [
              "'ONE MORNING, WHEN GREGOR SAMSA WOKE FROM TROUBLED DREAMS, HE FOUND\\nHIMSELF TRANSFORMED IN HIS BED INTO A HORRIBLE VERMIN.'"
            ],
            "application/vnd.google.colaboratory.intrinsic+json": {
              "type": "string"
            }
          },
          "metadata": {},
          "execution_count": 9
        }
      ]
    },
    {
      "cell_type": "markdown",
      "source": [
        "### Split and Join Strings by a Delimiter"
      ],
      "metadata": {
        "id": "abkWpsSCAoOq"
      }
    },
    {
      "cell_type": "markdown",
      "source": [
        "Returns a list of substrings separated by the given delimiter:\n",
        "* `string.split('delim')`"
      ],
      "metadata": {
        "id": "cn-SmTIvAqOB"
      }
    },
    {
      "cell_type": "code",
      "source": [
        "first_line.split(' ')"
      ],
      "metadata": {
        "id": "6EE1ocjEAw09",
        "colab": {
          "base_uri": "https://localhost:8080/"
        },
        "outputId": "2a9936c6-d619-45a2-8715-700692c56b6c"
      },
      "execution_count": 11,
      "outputs": [
        {
          "output_type": "execute_result",
          "data": {
            "text/plain": [
              "['One',\n",
              " 'morning,',\n",
              " 'when',\n",
              " 'Gregor',\n",
              " 'Samsa',\n",
              " 'woke',\n",
              " 'from',\n",
              " 'troubled',\n",
              " 'dreams,',\n",
              " 'he',\n",
              " 'found\\nhimself',\n",
              " 'transformed',\n",
              " 'in',\n",
              " 'his',\n",
              " 'bed',\n",
              " 'into',\n",
              " 'a',\n",
              " 'horrible',\n",
              " 'vermin.']"
            ]
          },
          "metadata": {},
          "execution_count": 11
        }
      ]
    },
    {
      "cell_type": "markdown",
      "source": [
        "### String Methods Exercise"
      ],
      "metadata": {
        "id": "Y8esauPdAe8i"
      }
    },
    {
      "cell_type": "markdown",
      "source": [
        "Transform the first line of Kafka’s The Metamorphosis to upper case:"
      ],
      "metadata": {
        "id": "ia_ZhvsdAjPO"
      }
    },
    {
      "cell_type": "code",
      "source": [
        "# your code here"
      ],
      "metadata": {
        "id": "GSZNiY9tAlCB"
      },
      "execution_count": null,
      "outputs": []
    },
    {
      "cell_type": "markdown",
      "source": [
        "Your turn! Split on the words “dreams” and see what happens."
      ],
      "metadata": {
        "id": "aMo4kgN6A04q"
      }
    },
    {
      "cell_type": "code",
      "source": [
        "# your code here"
      ],
      "metadata": {
        "id": "nvifsg78A12O"
      },
      "execution_count": null,
      "outputs": []
    },
    {
      "cell_type": "markdown",
      "source": [
        "You can also put something back together again with the join() method!"
      ],
      "metadata": {
        "id": "ZCtuoO4vA8GA"
      }
    },
    {
      "cell_type": "code",
      "source": [
        "kafka_split_words = first_line.split()\n",
        "kafka_split_words"
      ],
      "metadata": {
        "id": "5uHWVqreA-qY"
      },
      "execution_count": null,
      "outputs": []
    },
    {
      "cell_type": "markdown",
      "source": [
        "Now, join them back together again..."
      ],
      "metadata": {
        "id": "BnxvARP4BJBo"
      }
    },
    {
      "cell_type": "code",
      "source": [
        "\" \".join(kafka_split_words)"
      ],
      "metadata": {
        "id": "OZbKvEEDBHlk"
      },
      "execution_count": null,
      "outputs": []
    }
  ]
}